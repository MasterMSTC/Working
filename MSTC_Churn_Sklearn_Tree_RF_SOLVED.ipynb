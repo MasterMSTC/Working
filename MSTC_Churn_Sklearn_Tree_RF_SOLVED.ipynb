{
  "nbformat": 4,
  "nbformat_minor": 0,
  "metadata": {
    "colab": {
      "name": "MSTC_Churn_Sklearn_Tree_RF_SOLVED.ipynb",
      "version": "0.3.2",
      "provenance": [],
      "collapsed_sections": []
    },
    "kernelspec": {
      "display_name": "Python [tensorflow]",
      "language": "python",
      "name": "Python [tensorflow]"
    }
  },
  "cells": [
    {
      "metadata": {
        "id": "wgcJWurtFMPk",
        "colab_type": "text"
      },
      "cell_type": "markdown",
      "source": [
        "#  Churn prediction <font color=orange>(Orange Telecom dataset)</font>\n",
        "## using Python ML <font color=blue>scikit-learn</font> http://scikit-learn.org/stable/\n",
        "\n",
        "![Image of Sklearn](http://scikit-learn.org/stable/_static/scikit-learn-logo-small.png)\n",
        "![Image of Sklearn](http://scikit-learn.org/stable/_images/sphx_glr_plot_classifier_comparison_001_carousel.png)\n",
        "\n",
        "\n",
        "### see http://blog.yhat.com/posts/predicting-customer-churn-with-sklearn.html"
      ]
    },
    {
      "metadata": {
        "id": "cky6YKezGPSh",
        "colab_type": "text"
      },
      "cell_type": "markdown",
      "source": [
        "---\n",
        "\n",
        "# Reading *churn_bigml* data from a Shared Google Drive .tar file"
      ]
    },
    {
      "metadata": {
        "id": "0VhD24xbGPdc",
        "colab_type": "code",
        "outputId": "28cde5e9-8246-44ad-a620-6b48da129146",
        "colab": {
          "base_uri": "https://localhost:8080/",
          "height": 35
        }
      },
      "cell_type": "code",
      "source": [
        "! pip install googledrivedownloader"
      ],
      "execution_count": 1,
      "outputs": [
        {
          "output_type": "stream",
          "text": [
            "Requirement already satisfied: googledrivedownloader in /usr/local/lib/python2.7/dist-packages (0.3)\n"
          ],
          "name": "stdout"
        }
      ]
    },
    {
      "metadata": {
        "id": "8i886DuOGTRm",
        "colab_type": "code",
        "colab": {
          "base_uri": "https://localhost:8080/",
          "height": 35
        },
        "outputId": "9dd343b7-2f12-4f51-ab33-795abec8e21e"
      },
      "cell_type": "code",
      "source": [
        "from google_drive_downloader import GoogleDriveDownloader as gdd\n",
        "\n",
        "gdd.download_file_from_google_drive(file_id='1zmriEGA3z4WAOmscdEfgzcliAUsNaVoj',\n",
        "                                    dest_path='./churn-bigml.zip',\n",
        "                                    unzip=False)\n"
      ],
      "execution_count": 2,
      "outputs": [
        {
          "output_type": "stream",
          "text": [
            "Downloading 1zmriEGA3z4WAOmscdEfgzcliAUsNaVoj into ./churn-bigml.zip... Done.\n"
          ],
          "name": "stdout"
        }
      ]
    },
    {
      "metadata": {
        "id": "mI2voHcxGfjo",
        "colab_type": "code",
        "outputId": "59781fef-bd98-4583-a54b-5da4aad9fe39",
        "colab": {
          "base_uri": "https://localhost:8080/",
          "height": 72
        }
      },
      "cell_type": "code",
      "source": [
        "! unzip -o churn-bigml.zip"
      ],
      "execution_count": 3,
      "outputs": [
        {
          "output_type": "stream",
          "text": [
            "Archive:  churn-bigml.zip\n",
            "  inflating: churn-bigml-20.csv      \n",
            "  inflating: churn-bigml-80.csv      \n"
          ],
          "name": "stdout"
        }
      ]
    },
    {
      "metadata": {
        "id": "hZ4jv0z5adAz",
        "colab_type": "text"
      },
      "cell_type": "markdown",
      "source": [
        "## <font color=#FF103>TO DO: read churn-bigml-80.csv into a Pandas DataFrame</font>"
      ]
    },
    {
      "metadata": {
        "colab_type": "code",
        "id": "VktUWQMIa1rz",
        "colab": {}
      },
      "cell_type": "code",
      "source": [
        "# from __future__ import division\n",
        "import pandas as pd\n",
        "import numpy as np\n",
        "import matplotlib.pyplot as plt\n",
        "%matplotlib inline\n",
        "\n",
        "\n",
        "CV_data = pd.read_csv(\"churn-bigml-80.csv\")"
      ],
      "execution_count": 0,
      "outputs": []
    },
    {
      "metadata": {
        "id": "CiIFfwsGFMP6",
        "colab_type": "code",
        "colab": {
          "base_uri": "https://localhost:8080/",
          "height": 261
        },
        "outputId": "2b206578-eab2-49a2-a421-eadcd88644ad"
      },
      "cell_type": "code",
      "source": [
        "CV_data.head()"
      ],
      "execution_count": 5,
      "outputs": [
        {
          "output_type": "execute_result",
          "data": {
            "text/html": [
              "<div>\n",
              "<style scoped>\n",
              "    .dataframe tbody tr th:only-of-type {\n",
              "        vertical-align: middle;\n",
              "    }\n",
              "\n",
              "    .dataframe tbody tr th {\n",
              "        vertical-align: top;\n",
              "    }\n",
              "\n",
              "    .dataframe thead th {\n",
              "        text-align: right;\n",
              "    }\n",
              "</style>\n",
              "<table border=\"1\" class=\"dataframe\">\n",
              "  <thead>\n",
              "    <tr style=\"text-align: right;\">\n",
              "      <th></th>\n",
              "      <th>State</th>\n",
              "      <th>Account length</th>\n",
              "      <th>Area code</th>\n",
              "      <th>International plan</th>\n",
              "      <th>Voice mail plan</th>\n",
              "      <th>Number vmail messages</th>\n",
              "      <th>Total day minutes</th>\n",
              "      <th>Total day calls</th>\n",
              "      <th>Total day charge</th>\n",
              "      <th>Total eve minutes</th>\n",
              "      <th>Total eve calls</th>\n",
              "      <th>Total eve charge</th>\n",
              "      <th>Total night minutes</th>\n",
              "      <th>Total night calls</th>\n",
              "      <th>Total night charge</th>\n",
              "      <th>Total intl minutes</th>\n",
              "      <th>Total intl calls</th>\n",
              "      <th>Total intl charge</th>\n",
              "      <th>Customer service calls</th>\n",
              "      <th>Churn</th>\n",
              "    </tr>\n",
              "  </thead>\n",
              "  <tbody>\n",
              "    <tr>\n",
              "      <th>0</th>\n",
              "      <td>KS</td>\n",
              "      <td>128</td>\n",
              "      <td>415</td>\n",
              "      <td>No</td>\n",
              "      <td>Yes</td>\n",
              "      <td>25</td>\n",
              "      <td>265.1</td>\n",
              "      <td>110</td>\n",
              "      <td>45.07</td>\n",
              "      <td>197.4</td>\n",
              "      <td>99</td>\n",
              "      <td>16.78</td>\n",
              "      <td>244.7</td>\n",
              "      <td>91</td>\n",
              "      <td>11.01</td>\n",
              "      <td>10.0</td>\n",
              "      <td>3</td>\n",
              "      <td>2.70</td>\n",
              "      <td>1</td>\n",
              "      <td>False</td>\n",
              "    </tr>\n",
              "    <tr>\n",
              "      <th>1</th>\n",
              "      <td>OH</td>\n",
              "      <td>107</td>\n",
              "      <td>415</td>\n",
              "      <td>No</td>\n",
              "      <td>Yes</td>\n",
              "      <td>26</td>\n",
              "      <td>161.6</td>\n",
              "      <td>123</td>\n",
              "      <td>27.47</td>\n",
              "      <td>195.5</td>\n",
              "      <td>103</td>\n",
              "      <td>16.62</td>\n",
              "      <td>254.4</td>\n",
              "      <td>103</td>\n",
              "      <td>11.45</td>\n",
              "      <td>13.7</td>\n",
              "      <td>3</td>\n",
              "      <td>3.70</td>\n",
              "      <td>1</td>\n",
              "      <td>False</td>\n",
              "    </tr>\n",
              "    <tr>\n",
              "      <th>2</th>\n",
              "      <td>NJ</td>\n",
              "      <td>137</td>\n",
              "      <td>415</td>\n",
              "      <td>No</td>\n",
              "      <td>No</td>\n",
              "      <td>0</td>\n",
              "      <td>243.4</td>\n",
              "      <td>114</td>\n",
              "      <td>41.38</td>\n",
              "      <td>121.2</td>\n",
              "      <td>110</td>\n",
              "      <td>10.30</td>\n",
              "      <td>162.6</td>\n",
              "      <td>104</td>\n",
              "      <td>7.32</td>\n",
              "      <td>12.2</td>\n",
              "      <td>5</td>\n",
              "      <td>3.29</td>\n",
              "      <td>0</td>\n",
              "      <td>False</td>\n",
              "    </tr>\n",
              "    <tr>\n",
              "      <th>3</th>\n",
              "      <td>OH</td>\n",
              "      <td>84</td>\n",
              "      <td>408</td>\n",
              "      <td>Yes</td>\n",
              "      <td>No</td>\n",
              "      <td>0</td>\n",
              "      <td>299.4</td>\n",
              "      <td>71</td>\n",
              "      <td>50.90</td>\n",
              "      <td>61.9</td>\n",
              "      <td>88</td>\n",
              "      <td>5.26</td>\n",
              "      <td>196.9</td>\n",
              "      <td>89</td>\n",
              "      <td>8.86</td>\n",
              "      <td>6.6</td>\n",
              "      <td>7</td>\n",
              "      <td>1.78</td>\n",
              "      <td>2</td>\n",
              "      <td>False</td>\n",
              "    </tr>\n",
              "    <tr>\n",
              "      <th>4</th>\n",
              "      <td>OK</td>\n",
              "      <td>75</td>\n",
              "      <td>415</td>\n",
              "      <td>Yes</td>\n",
              "      <td>No</td>\n",
              "      <td>0</td>\n",
              "      <td>166.7</td>\n",
              "      <td>113</td>\n",
              "      <td>28.34</td>\n",
              "      <td>148.3</td>\n",
              "      <td>122</td>\n",
              "      <td>12.61</td>\n",
              "      <td>186.9</td>\n",
              "      <td>121</td>\n",
              "      <td>8.41</td>\n",
              "      <td>10.1</td>\n",
              "      <td>3</td>\n",
              "      <td>2.73</td>\n",
              "      <td>3</td>\n",
              "      <td>False</td>\n",
              "    </tr>\n",
              "  </tbody>\n",
              "</table>\n",
              "</div>"
            ],
            "text/plain": [
              "  State  Account length  Area code International plan Voice mail plan  \\\n",
              "0    KS             128        415                 No             Yes   \n",
              "1    OH             107        415                 No             Yes   \n",
              "2    NJ             137        415                 No              No   \n",
              "3    OH              84        408                Yes              No   \n",
              "4    OK              75        415                Yes              No   \n",
              "\n",
              "   Number vmail messages  Total day minutes  Total day calls  \\\n",
              "0                     25              265.1              110   \n",
              "1                     26              161.6              123   \n",
              "2                      0              243.4              114   \n",
              "3                      0              299.4               71   \n",
              "4                      0              166.7              113   \n",
              "\n",
              "   Total day charge  Total eve minutes  Total eve calls  Total eve charge  \\\n",
              "0             45.07              197.4               99             16.78   \n",
              "1             27.47              195.5              103             16.62   \n",
              "2             41.38              121.2              110             10.30   \n",
              "3             50.90               61.9               88              5.26   \n",
              "4             28.34              148.3              122             12.61   \n",
              "\n",
              "   Total night minutes  Total night calls  Total night charge  \\\n",
              "0                244.7                 91               11.01   \n",
              "1                254.4                103               11.45   \n",
              "2                162.6                104                7.32   \n",
              "3                196.9                 89                8.86   \n",
              "4                186.9                121                8.41   \n",
              "\n",
              "   Total intl minutes  Total intl calls  Total intl charge  \\\n",
              "0                10.0                 3               2.70   \n",
              "1                13.7                 3               3.70   \n",
              "2                12.2                 5               3.29   \n",
              "3                 6.6                 7               1.78   \n",
              "4                10.1                 3               2.73   \n",
              "\n",
              "   Customer service calls  Churn  \n",
              "0                       1  False  \n",
              "1                       1  False  \n",
              "2                       0  False  \n",
              "3                       2  False  \n",
              "4                       3  False  "
            ]
          },
          "metadata": {
            "tags": []
          },
          "execution_count": 5
        }
      ]
    },
    {
      "metadata": {
        "colab_type": "text",
        "id": "2u7R11pNbTpV"
      },
      "cell_type": "markdown",
      "source": [
        "## <font color=#FF103>TO DO: how many features (columns) do we have? </font>"
      ]
    },
    {
      "metadata": {
        "id": "JAe1Z-zebkNd",
        "colab_type": "code",
        "outputId": "da43edf9-c583-462f-aa73-2332daf63d27",
        "colab": {
          "base_uri": "https://localhost:8080/",
          "height": 110
        }
      },
      "cell_type": "code",
      "source": [
        "\n",
        "col_names = CV_data.columns.tolist()\n",
        "\n",
        "print(\"There are : \" , len(col_names) ,' columns')\n",
        "print('\\nColumn names: \\n {}'.format(col_names))\n",
        "\n"
      ],
      "execution_count": 6,
      "outputs": [
        {
          "output_type": "stream",
          "text": [
            "('There are : ', 20, ' columns')\n",
            "\n",
            "Column names: \n",
            " ['State', 'Account length', 'Area code', 'International plan', 'Voice mail plan', 'Number vmail messages', 'Total day minutes', 'Total day calls', 'Total day charge', 'Total eve minutes', 'Total eve calls', 'Total eve charge', 'Total night minutes', 'Total night calls', 'Total night charge', 'Total intl minutes', 'Total intl calls', 'Total intl charge', 'Customer service calls', 'Churn']\n"
          ],
          "name": "stdout"
        }
      ]
    },
    {
      "metadata": {
        "colab_type": "text",
        "id": "7keWYeb8bI1p"
      },
      "cell_type": "markdown",
      "source": [
        "## <font color=#FF103>TO DO: how many users and how many quit and don't quit</font>"
      ]
    },
    {
      "metadata": {
        "colab_type": "code",
        "id": "BioZNhnRfSpu",
        "colab": {
          "base_uri": "https://localhost:8080/",
          "height": 90
        },
        "outputId": "3774c897-e077-43b1-8d65-673a0993b6fa"
      },
      "cell_type": "code",
      "source": [
        "CV_data.groupby(['Churn'])['Churn'].count()"
      ],
      "execution_count": 7,
      "outputs": [
        {
          "output_type": "execute_result",
          "data": {
            "text/plain": [
              "Churn\n",
              "False    2278\n",
              "True      388\n",
              "Name: Churn, dtype: int64"
            ]
          },
          "metadata": {
            "tags": []
          },
          "execution_count": 7
        }
      ]
    },
    {
      "metadata": {
        "id": "hyVFsSY4iGtH",
        "colab_type": "code",
        "colab": {
          "base_uri": "https://localhost:8080/",
          "height": 72
        },
        "outputId": "3ee62776-6fb0-41ab-d3d3-c82b3f46cebe"
      },
      "cell_type": "code",
      "source": [
        "CV_data['Churn'].value_counts()"
      ],
      "execution_count": 8,
      "outputs": [
        {
          "output_type": "execute_result",
          "data": {
            "text/plain": [
              "False    2278\n",
              "True      388\n",
              "Name: Churn, dtype: int64"
            ]
          },
          "metadata": {
            "tags": []
          },
          "execution_count": 8
        }
      ]
    },
    {
      "metadata": {
        "id": "gdY0lqR7fHpw",
        "colab_type": "code",
        "colab": {
          "base_uri": "https://localhost:8080/",
          "height": 143
        },
        "outputId": "e934e075-345c-434e-b1c6-e80c0eb42b1a"
      },
      "cell_type": "code",
      "source": [
        "CV_data.groupby(['Churn'])['Churn'].describe()"
      ],
      "execution_count": 9,
      "outputs": [
        {
          "output_type": "execute_result",
          "data": {
            "text/html": [
              "<div>\n",
              "<style scoped>\n",
              "    .dataframe tbody tr th:only-of-type {\n",
              "        vertical-align: middle;\n",
              "    }\n",
              "\n",
              "    .dataframe tbody tr th {\n",
              "        vertical-align: top;\n",
              "    }\n",
              "\n",
              "    .dataframe thead th {\n",
              "        text-align: right;\n",
              "    }\n",
              "</style>\n",
              "<table border=\"1\" class=\"dataframe\">\n",
              "  <thead>\n",
              "    <tr style=\"text-align: right;\">\n",
              "      <th></th>\n",
              "      <th>count</th>\n",
              "      <th>unique</th>\n",
              "      <th>top</th>\n",
              "      <th>freq</th>\n",
              "    </tr>\n",
              "    <tr>\n",
              "      <th>Churn</th>\n",
              "      <th></th>\n",
              "      <th></th>\n",
              "      <th></th>\n",
              "      <th></th>\n",
              "    </tr>\n",
              "  </thead>\n",
              "  <tbody>\n",
              "    <tr>\n",
              "      <th>False</th>\n",
              "      <td>2278</td>\n",
              "      <td>1</td>\n",
              "      <td>False</td>\n",
              "      <td>2278</td>\n",
              "    </tr>\n",
              "    <tr>\n",
              "      <th>True</th>\n",
              "      <td>388</td>\n",
              "      <td>1</td>\n",
              "      <td>True</td>\n",
              "      <td>388</td>\n",
              "    </tr>\n",
              "  </tbody>\n",
              "</table>\n",
              "</div>"
            ],
            "text/plain": [
              "      count unique    top  freq\n",
              "Churn                          \n",
              "False  2278      1  False  2278\n",
              "True    388      1   True   388"
            ]
          },
          "metadata": {
            "tags": []
          },
          "execution_count": 9
        }
      ]
    },
    {
      "metadata": {
        "colab_type": "text",
        "id": "wd8mcaIp2Enh"
      },
      "cell_type": "markdown",
      "source": [
        "## <font color=#FF103>TO DO: make a <font color=green>bar plot</font> on the average 'Customer service calls' for each state</font>"
      ]
    },
    {
      "metadata": {
        "colab_type": "code",
        "id": "Mya2Km882cNs",
        "colab": {
          "base_uri": "https://localhost:8080/",
          "height": 304
        },
        "outputId": "930c0b79-429e-405e-e383-9fe67f214b0b"
      },
      "cell_type": "code",
      "source": [
        "# 'Customer service calls'\n",
        "# 'Total night minutes'\n",
        "\n",
        "plt.figure(figsize=(10,4))\n",
        "CV_data.groupby('State')['Customer service calls'].mean().plot(kind='bar')"
      ],
      "execution_count": 10,
      "outputs": [
        {
          "output_type": "execute_result",
          "data": {
            "text/plain": [
              "<matplotlib.axes._subplots.AxesSubplot at 0x7f5e0f6b9410>"
            ]
          },
          "metadata": {
            "tags": []
          },
          "execution_count": 10
        },
        {
          "output_type": "display_data",
          "data": {
            "image/png": "[encoded data removed]",
            "text/plain": [
              "<matplotlib.figure.Figure at 0x7f5e0f6b93d0>"
            ]
          },
          "metadata": {
            "tags": []
          }
        }
      ]
    },
    {
      "metadata": {
        "colab_type": "text",
        "id": "bbIe_OBmf32-"
      },
      "cell_type": "markdown",
      "source": [
        "## <font color=#FF103>TO DO: make a <font color=green>bar plot</font> on the percentage of users that quit for each state</font>"
      ]
    },
    {
      "metadata": {
        "id": "zGIxkSkNhzqi",
        "colab_type": "code",
        "colab": {
          "base_uri": "https://localhost:8080/",
          "height": 304
        },
        "outputId": "b947bcb4-9688-47e3-9359-672bf7a33353"
      },
      "cell_type": "code",
      "source": [
        "plt.figure(figsize=(10,4))\n",
        "CV_data.groupby('State')['Churn'].mean().plot(kind='bar')"
      ],
      "execution_count": 11,
      "outputs": [
        {
          "output_type": "execute_result",
          "data": {
            "text/plain": [
              "<matplotlib.axes._subplots.AxesSubplot at 0x7f5e0f4f9e90>"
            ]
          },
          "metadata": {
            "tags": []
          },
          "execution_count": 11
        },
        {
          "output_type": "display_data",
          "data": {
            "image/png": "[encoded data removed]",
            "text/plain": [
              "<matplotlib.figure.Figure at 0x7f5e0f4f9e10>"
            ]
          },
          "metadata": {
            "tags": []
          }
        }
      ]
    },
    {
      "metadata": {
        "id": "SgC7Gl3_nZh2",
        "colab_type": "text"
      },
      "cell_type": "markdown",
      "source": [
        "# ---- OTHER TESTS ------------------------------------------------"
      ]
    },
    {
      "metadata": {
        "id": "UGDclAvPhrsy",
        "colab_type": "code",
        "colab": {}
      },
      "cell_type": "code",
      "source": [
        "tmp=CV_data.groupby(['Churn'])['State'].value_counts()\n"
      ],
      "execution_count": 0,
      "outputs": []
    },
    {
      "metadata": {
        "id": "_ET0rYPNlP2H",
        "colab_type": "code",
        "colab": {}
      },
      "cell_type": "code",
      "source": [
        "Percentages2=CV_data.groupby(['Churn', 'State'])['State'].count()/CV_data.groupby([ 'State'])['State'].count()"
      ],
      "execution_count": 0,
      "outputs": []
    },
    {
      "metadata": {
        "id": "drhL7szFl22S",
        "colab_type": "code",
        "colab": {
          "base_uri": "https://localhost:8080/",
          "height": 304
        },
        "outputId": "b9e7846f-b237-49a0-c76e-74d7cb896072"
      },
      "cell_type": "code",
      "source": [
        "plt.figure(figsize=(10,4))\n",
        "Percentages2[1].plot(kind='bar')"
      ],
      "execution_count": 14,
      "outputs": [
        {
          "output_type": "execute_result",
          "data": {
            "text/plain": [
              "<matplotlib.axes._subplots.AxesSubplot at 0x7f5e0d01f910>"
            ]
          },
          "metadata": {
            "tags": []
          },
          "execution_count": 14
        },
        {
          "output_type": "display_data",
          "data": {
            "image/png": "[encoded data removed]",
            "text/plain": [
              "<matplotlib.figure.Figure at 0x7f5e0d2d6690>"
            ]
          },
          "metadata": {
            "tags": []
          }
        }
      ]
    },
    {
      "metadata": {
        "id": "fX2bAnhlly3K",
        "colab_type": "code",
        "colab": {}
      },
      "cell_type": "code",
      "source": [
        ""
      ],
      "execution_count": 0,
      "outputs": []
    },
    {
      "metadata": {
        "id": "W2X7yQE_jihL",
        "colab_type": "code",
        "colab": {}
      },
      "cell_type": "code",
      "source": [
        "Perc_State=100*CV_data.groupby(['Churn'])['State'].value_counts()[0]/CV_data.groupby(['State'])['State'].count()"
      ],
      "execution_count": 0,
      "outputs": []
    },
    {
      "metadata": {
        "id": "FIyUesYjkHSB",
        "colab_type": "code",
        "colab": {
          "base_uri": "https://localhost:8080/",
          "height": 319
        },
        "outputId": "b9bc721a-5ddb-4771-e14f-1e0e581be490"
      },
      "cell_type": "code",
      "source": [
        "plt.figure(figsize=(14,4))\n",
        "Perc_State.plot(kind='bar')\n",
        "plt.title('Churn Percentage per State')"
      ],
      "execution_count": 16,
      "outputs": [
        {
          "output_type": "execute_result",
          "data": {
            "text/plain": [
              "Text(0.5,1,u'Churn Percentage per State')"
            ]
          },
          "metadata": {
            "tags": []
          },
          "execution_count": 16
        },
        {
          "output_type": "display_data",
          "data": {
            "image/png": "[encoded data removed]",
            "text/plain": [
              "<matplotlib.figure.Figure at 0x7f5e0bef9c50>"
            ]
          },
          "metadata": {
            "tags": []
          }
        }
      ]
    },
    {
      "metadata": {
        "id": "_Pvog_Y_FMQf",
        "colab_type": "text"
      },
      "cell_type": "markdown",
      "source": [
        "---\n",
        "\n",
        "# <font color=qq6677>Now we prepare the data for testing several ML algorihms</font>\n",
        "\n",
        "---\n"
      ]
    },
    {
      "metadata": {
        "id": "aa61C3wEpVXx",
        "colab_type": "text"
      },
      "cell_type": "markdown",
      "source": [
        "- ## <font color=FF103>TO DO: First Extract the Churn into a \"1\" \"0\" numpy vector = *y*"
      ]
    },
    {
      "metadata": {
        "id": "17m-A0qRFMQj",
        "colab_type": "code",
        "colab": {}
      },
      "cell_type": "code",
      "source": [
        "churn_result = CV_data['Churn']\n",
        "y = np.where(churn_result==True,1,0)"
      ],
      "execution_count": 0,
      "outputs": []
    },
    {
      "metadata": {
        "id": "e4lDNJZKFMQv",
        "colab_type": "code",
        "colab": {}
      },
      "cell_type": "code",
      "source": [
        "y=np.array(CV_data['Churn'].astype(int))"
      ],
      "execution_count": 0,
      "outputs": []
    },
    {
      "metadata": {
        "colab_type": "text",
        "id": "-tEGXIafqR7t"
      },
      "cell_type": "markdown",
      "source": [
        "- ## <font color=FF103>TO DO: Create a new Data Frame *churn_feat_space* by removing the columns in : *to_drop* list</font>\n",
        "  \n",
        "  "
      ]
    },
    {
      "metadata": {
        "colab_type": "code",
        "id": "reqrZ45E3W9T",
        "colab": {}
      },
      "cell_type": "code",
      "source": [
        "to_drop = ['State','Area code',\n",
        "           'Total day charge','Total eve charge','Total night charge',\n",
        "           'Total intl charge','Churn']\n",
        "\n",
        "churn_feat_space = CV_data.drop(to_drop,axis=1)"
      ],
      "execution_count": 0,
      "outputs": []
    },
    {
      "metadata": {
        "id": "yGBXIc6NFMRt",
        "colab_type": "code",
        "outputId": "17adedc0-06ec-4075-96e1-db8ea0fc840e",
        "colab": {
          "base_uri": "https://localhost:8080/",
          "height": 272
        }
      },
      "cell_type": "code",
      "source": [
        "churn_feat_space.head(6)"
      ],
      "execution_count": 20,
      "outputs": [
        {
          "output_type": "execute_result",
          "data": {
            "text/html": [
              "<div>\n",
              "<style scoped>\n",
              "    .dataframe tbody tr th:only-of-type {\n",
              "        vertical-align: middle;\n",
              "    }\n",
              "\n",
              "    .dataframe tbody tr th {\n",
              "        vertical-align: top;\n",
              "    }\n",
              "\n",
              "    .dataframe thead th {\n",
              "        text-align: right;\n",
              "    }\n",
              "</style>\n",
              "<table border=\"1\" class=\"dataframe\">\n",
              "  <thead>\n",
              "    <tr style=\"text-align: right;\">\n",
              "      <th></th>\n",
              "      <th>Account length</th>\n",
              "      <th>International plan</th>\n",
              "      <th>Voice mail plan</th>\n",
              "      <th>Number vmail messages</th>\n",
              "      <th>Total day minutes</th>\n",
              "      <th>Total day calls</th>\n",
              "      <th>Total eve minutes</th>\n",
              "      <th>Total eve calls</th>\n",
              "      <th>Total night minutes</th>\n",
              "      <th>Total night calls</th>\n",
              "      <th>Total intl minutes</th>\n",
              "      <th>Total intl calls</th>\n",
              "      <th>Customer service calls</th>\n",
              "    </tr>\n",
              "  </thead>\n",
              "  <tbody>\n",
              "    <tr>\n",
              "      <th>0</th>\n",
              "      <td>128</td>\n",
              "      <td>No</td>\n",
              "      <td>Yes</td>\n",
              "      <td>25</td>\n",
              "      <td>265.1</td>\n",
              "      <td>110</td>\n",
              "      <td>197.4</td>\n",
              "      <td>99</td>\n",
              "      <td>244.7</td>\n",
              "      <td>91</td>\n",
              "      <td>10.0</td>\n",
              "      <td>3</td>\n",
              "      <td>1</td>\n",
              "    </tr>\n",
              "    <tr>\n",
              "      <th>1</th>\n",
              "      <td>107</td>\n",
              "      <td>No</td>\n",
              "      <td>Yes</td>\n",
              "      <td>26</td>\n",
              "      <td>161.6</td>\n",
              "      <td>123</td>\n",
              "      <td>195.5</td>\n",
              "      <td>103</td>\n",
              "      <td>254.4</td>\n",
              "      <td>103</td>\n",
              "      <td>13.7</td>\n",
              "      <td>3</td>\n",
              "      <td>1</td>\n",
              "    </tr>\n",
              "    <tr>\n",
              "      <th>2</th>\n",
              "      <td>137</td>\n",
              "      <td>No</td>\n",
              "      <td>No</td>\n",
              "      <td>0</td>\n",
              "      <td>243.4</td>\n",
              "      <td>114</td>\n",
              "      <td>121.2</td>\n",
              "      <td>110</td>\n",
              "      <td>162.6</td>\n",
              "      <td>104</td>\n",
              "      <td>12.2</td>\n",
              "      <td>5</td>\n",
              "      <td>0</td>\n",
              "    </tr>\n",
              "    <tr>\n",
              "      <th>3</th>\n",
              "      <td>84</td>\n",
              "      <td>Yes</td>\n",
              "      <td>No</td>\n",
              "      <td>0</td>\n",
              "      <td>299.4</td>\n",
              "      <td>71</td>\n",
              "      <td>61.9</td>\n",
              "      <td>88</td>\n",
              "      <td>196.9</td>\n",
              "      <td>89</td>\n",
              "      <td>6.6</td>\n",
              "      <td>7</td>\n",
              "      <td>2</td>\n",
              "    </tr>\n",
              "    <tr>\n",
              "      <th>4</th>\n",
              "      <td>75</td>\n",
              "      <td>Yes</td>\n",
              "      <td>No</td>\n",
              "      <td>0</td>\n",
              "      <td>166.7</td>\n",
              "      <td>113</td>\n",
              "      <td>148.3</td>\n",
              "      <td>122</td>\n",
              "      <td>186.9</td>\n",
              "      <td>121</td>\n",
              "      <td>10.1</td>\n",
              "      <td>3</td>\n",
              "      <td>3</td>\n",
              "    </tr>\n",
              "    <tr>\n",
              "      <th>5</th>\n",
              "      <td>118</td>\n",
              "      <td>Yes</td>\n",
              "      <td>No</td>\n",
              "      <td>0</td>\n",
              "      <td>223.4</td>\n",
              "      <td>98</td>\n",
              "      <td>220.6</td>\n",
              "      <td>101</td>\n",
              "      <td>203.9</td>\n",
              "      <td>118</td>\n",
              "      <td>6.3</td>\n",
              "      <td>6</td>\n",
              "      <td>0</td>\n",
              "    </tr>\n",
              "  </tbody>\n",
              "</table>\n",
              "</div>"
            ],
            "text/plain": [
              "   Account length International plan Voice mail plan  Number vmail messages  \\\n",
              "0             128                 No             Yes                     25   \n",
              "1             107                 No             Yes                     26   \n",
              "2             137                 No              No                      0   \n",
              "3              84                Yes              No                      0   \n",
              "4              75                Yes              No                      0   \n",
              "5             118                Yes              No                      0   \n",
              "\n",
              "   Total day minutes  Total day calls  Total eve minutes  Total eve calls  \\\n",
              "0              265.1              110              197.4               99   \n",
              "1              161.6              123              195.5              103   \n",
              "2              243.4              114              121.2              110   \n",
              "3              299.4               71               61.9               88   \n",
              "4              166.7              113              148.3              122   \n",
              "5              223.4               98              220.6              101   \n",
              "\n",
              "   Total night minutes  Total night calls  Total intl minutes  \\\n",
              "0                244.7                 91                10.0   \n",
              "1                254.4                103                13.7   \n",
              "2                162.6                104                12.2   \n",
              "3                196.9                 89                 6.6   \n",
              "4                186.9                121                10.1   \n",
              "5                203.9                118                 6.3   \n",
              "\n",
              "   Total intl calls  Customer service calls  \n",
              "0                 3                       1  \n",
              "1                 3                       1  \n",
              "2                 5                       0  \n",
              "3                 7                       2  \n",
              "4                 3                       3  \n",
              "5                 6                       0  "
            ]
          },
          "metadata": {
            "tags": []
          },
          "execution_count": 20
        }
      ]
    },
    {
      "metadata": {
        "id": "9GsRn1ywtpCA",
        "colab_type": "text"
      },
      "cell_type": "markdown",
      "source": [
        "- ## <font color=FF103>TO DO: Finally convert columns with Yes / No values ('International plan', 'Voice mail plan')to \"1\" \"0\" values in *churn_feat_space*</font>\n"
      ]
    },
    {
      "metadata": {
        "id": "mjMAXCQqsxEc",
        "colab_type": "code",
        "colab": {}
      },
      "cell_type": "code",
      "source": [
        "yes_no_cols = ['International plan', 'Voice mail plan']\n",
        "\n",
        "churn_feat_space[yes_no_cols]=(churn_feat_space[yes_no_cols]=='Yes').astype(int)"
      ],
      "execution_count": 0,
      "outputs": []
    },
    {
      "metadata": {
        "id": "HdNfw9yYFMR-",
        "colab_type": "code",
        "colab": {
          "base_uri": "https://localhost:8080/",
          "height": 272
        },
        "outputId": "dfc24bbd-52a8-4b02-9615-99bf21f552de"
      },
      "cell_type": "code",
      "source": [
        "churn_feat_space.head(6)"
      ],
      "execution_count": 22,
      "outputs": [
        {
          "output_type": "execute_result",
          "data": {
            "text/html": [
              "<div>\n",
              "<style scoped>\n",
              "    .dataframe tbody tr th:only-of-type {\n",
              "        vertical-align: middle;\n",
              "    }\n",
              "\n",
              "    .dataframe tbody tr th {\n",
              "        vertical-align: top;\n",
              "    }\n",
              "\n",
              "    .dataframe thead th {\n",
              "        text-align: right;\n",
              "    }\n",
              "</style>\n",
              "<table border=\"1\" class=\"dataframe\">\n",
              "  <thead>\n",
              "    <tr style=\"text-align: right;\">\n",
              "      <th></th>\n",
              "      <th>Account length</th>\n",
              "      <th>International plan</th>\n",
              "      <th>Voice mail plan</th>\n",
              "      <th>Number vmail messages</th>\n",
              "      <th>Total day minutes</th>\n",
              "      <th>Total day calls</th>\n",
              "      <th>Total eve minutes</th>\n",
              "      <th>Total eve calls</th>\n",
              "      <th>Total night minutes</th>\n",
              "      <th>Total night calls</th>\n",
              "      <th>Total intl minutes</th>\n",
              "      <th>Total intl calls</th>\n",
              "      <th>Customer service calls</th>\n",
              "    </tr>\n",
              "  </thead>\n",
              "  <tbody>\n",
              "    <tr>\n",
              "      <th>0</th>\n",
              "      <td>128</td>\n",
              "      <td>0</td>\n",
              "      <td>1</td>\n",
              "      <td>25</td>\n",
              "      <td>265.1</td>\n",
              "      <td>110</td>\n",
              "      <td>197.4</td>\n",
              "      <td>99</td>\n",
              "      <td>244.7</td>\n",
              "      <td>91</td>\n",
              "      <td>10.0</td>\n",
              "      <td>3</td>\n",
              "      <td>1</td>\n",
              "    </tr>\n",
              "    <tr>\n",
              "      <th>1</th>\n",
              "      <td>107</td>\n",
              "      <td>0</td>\n",
              "      <td>1</td>\n",
              "      <td>26</td>\n",
              "      <td>161.6</td>\n",
              "      <td>123</td>\n",
              "      <td>195.5</td>\n",
              "      <td>103</td>\n",
              "      <td>254.4</td>\n",
              "      <td>103</td>\n",
              "      <td>13.7</td>\n",
              "      <td>3</td>\n",
              "      <td>1</td>\n",
              "    </tr>\n",
              "    <tr>\n",
              "      <th>2</th>\n",
              "      <td>137</td>\n",
              "      <td>0</td>\n",
              "      <td>0</td>\n",
              "      <td>0</td>\n",
              "      <td>243.4</td>\n",
              "      <td>114</td>\n",
              "      <td>121.2</td>\n",
              "      <td>110</td>\n",
              "      <td>162.6</td>\n",
              "      <td>104</td>\n",
              "      <td>12.2</td>\n",
              "      <td>5</td>\n",
              "      <td>0</td>\n",
              "    </tr>\n",
              "    <tr>\n",
              "      <th>3</th>\n",
              "      <td>84</td>\n",
              "      <td>1</td>\n",
              "      <td>0</td>\n",
              "      <td>0</td>\n",
              "      <td>299.4</td>\n",
              "      <td>71</td>\n",
              "      <td>61.9</td>\n",
              "      <td>88</td>\n",
              "      <td>196.9</td>\n",
              "      <td>89</td>\n",
              "      <td>6.6</td>\n",
              "      <td>7</td>\n",
              "      <td>2</td>\n",
              "    </tr>\n",
              "    <tr>\n",
              "      <th>4</th>\n",
              "      <td>75</td>\n",
              "      <td>1</td>\n",
              "      <td>0</td>\n",
              "      <td>0</td>\n",
              "      <td>166.7</td>\n",
              "      <td>113</td>\n",
              "      <td>148.3</td>\n",
              "      <td>122</td>\n",
              "      <td>186.9</td>\n",
              "      <td>121</td>\n",
              "      <td>10.1</td>\n",
              "      <td>3</td>\n",
              "      <td>3</td>\n",
              "    </tr>\n",
              "    <tr>\n",
              "      <th>5</th>\n",
              "      <td>118</td>\n",
              "      <td>1</td>\n",
              "      <td>0</td>\n",
              "      <td>0</td>\n",
              "      <td>223.4</td>\n",
              "      <td>98</td>\n",
              "      <td>220.6</td>\n",
              "      <td>101</td>\n",
              "      <td>203.9</td>\n",
              "      <td>118</td>\n",
              "      <td>6.3</td>\n",
              "      <td>6</td>\n",
              "      <td>0</td>\n",
              "    </tr>\n",
              "  </tbody>\n",
              "</table>\n",
              "</div>"
            ],
            "text/plain": [
              "   Account length  International plan  Voice mail plan  Number vmail messages  \\\n",
              "0             128                   0                1                     25   \n",
              "1             107                   0                1                     26   \n",
              "2             137                   0                0                      0   \n",
              "3              84                   1                0                      0   \n",
              "4              75                   1                0                      0   \n",
              "5             118                   1                0                      0   \n",
              "\n",
              "   Total day minutes  Total day calls  Total eve minutes  Total eve calls  \\\n",
              "0              265.1              110              197.4               99   \n",
              "1              161.6              123              195.5              103   \n",
              "2              243.4              114              121.2              110   \n",
              "3              299.4               71               61.9               88   \n",
              "4              166.7              113              148.3              122   \n",
              "5              223.4               98              220.6              101   \n",
              "\n",
              "   Total night minutes  Total night calls  Total intl minutes  \\\n",
              "0                244.7                 91                10.0   \n",
              "1                254.4                103                13.7   \n",
              "2                162.6                104                12.2   \n",
              "3                196.9                 89                 6.6   \n",
              "4                186.9                121                10.1   \n",
              "5                203.9                118                 6.3   \n",
              "\n",
              "   Total intl calls  Customer service calls  \n",
              "0                 3                       1  \n",
              "1                 3                       1  \n",
              "2                 5                       0  \n",
              "3                 7                       2  \n",
              "4                 3                       3  \n",
              "5                 6                       0  "
            ]
          },
          "metadata": {
            "tags": []
          },
          "execution_count": 22
        }
      ]
    },
    {
      "metadata": {
        "colab_type": "text",
        "id": "MuhtDXpdwCdn"
      },
      "cell_type": "markdown",
      "source": [
        "- ## <font color=FF103>TO DO: Finally convert *churn_feat_space* into a numpy array X_tmp</font>\n"
      ]
    },
    {
      "metadata": {
        "colab_type": "code",
        "id": "U5zRKVjuwRgA",
        "colab": {}
      },
      "cell_type": "code",
      "source": [
        "X_tmp=np.array(churn_feat_space)"
      ],
      "execution_count": 0,
      "outputs": []
    },
    {
      "metadata": {
        "id": "WrXElEniFMSg",
        "colab_type": "code",
        "outputId": "f41e8cba-cfda-4d48-a5c6-ea3e1d1c42c8",
        "colab": {
          "base_uri": "https://localhost:8080/",
          "height": 54
        }
      },
      "cell_type": "code",
      "source": [
        "print('Number of Features:',X_tmp.shape[1])\n",
        "print('Number of training examples:',X_tmp.shape[0])"
      ],
      "execution_count": 24,
      "outputs": [
        {
          "output_type": "stream",
          "text": [
            "('Number of Features:', 13)\n",
            "('Number of training examples:', 2666)\n"
          ],
          "name": "stdout"
        }
      ]
    },
    {
      "metadata": {
        "colab_type": "text",
        "id": "Afl8nY9vwyXD"
      },
      "cell_type": "markdown",
      "source": [
        "- ## <font color=FF103>TO DO: Chech if features are \"normalized\" </font>\n"
      ]
    },
    {
      "metadata": {
        "id": "iqYqYqxQFMSy",
        "colab_type": "code",
        "colab": {
          "base_uri": "https://localhost:8080/",
          "height": 146
        },
        "outputId": "2735b1fa-6492-4b18-8679-79f07c5234fc"
      },
      "cell_type": "code",
      "source": [
        "print('Features Means:',np.mean(X_tmp,axis=0))\n",
        "print('Features Stds:',np.std(X_tmp,axis=0))"
      ],
      "execution_count": 25,
      "outputs": [
        {
          "output_type": "stream",
          "text": [
            "('Features Means:', array([1.00620405e+02, 1.01275319e-01, 2.74943736e-01, 8.02175544e+00,\n",
            "       1.79481620e+02, 1.00310203e+02, 2.00386159e+02, 1.00023631e+02,\n",
            "       2.01168942e+02, 1.00106152e+02, 1.02370218e+01, 4.46736684e+00,\n",
            "       1.56264066e+00]))\n",
            "('Features Stds:', array([39.55655286,  0.30169294,  0.44648592, 13.60972384, 54.20018228,\n",
            "       19.98441312, 50.94195842, 20.15766354, 50.77079878, 19.41481634,\n",
            "        2.78782558,  2.45573421,  1.31098982]))\n"
          ],
          "name": "stdout"
        }
      ]
    },
    {
      "metadata": {
        "colab_type": "text",
        "id": "J6ArmxbxxPNl"
      },
      "cell_type": "markdown",
      "source": [
        "- ## <font color=FF103>TO DO: use <font color=brown>Sklearn</font> to Normalize X_tmp into X </font>\n",
        "\n",
        "- ### sklearn.preprocessing : [StandardScaler](https://scikit-learn.org/stable/modules/generated/sklearn.preprocessing.StandardScaler.html#sklearn.preprocessing.StandardScaler)\n"
      ]
    },
    {
      "metadata": {
        "id": "PzI1pdvl4iKf",
        "colab_type": "code",
        "outputId": "b4cd32fd-51c9-4fca-c0b2-55e028163d52",
        "colab": {
          "base_uri": "https://localhost:8080/",
          "height": 109
        }
      },
      "cell_type": "code",
      "source": [
        "# Standarization of features\n",
        "from sklearn.preprocessing import StandardScaler\n",
        "scaler = StandardScaler()\n",
        "\n",
        "#X=scaler.fit_transform(X_tmp)\n",
        "\n",
        "scaler.fit(X_tmp)\n",
        "X=scaler.transform(X_tmp)\n",
        "print('Features Means:',np.mean(X,axis=0))\n",
        "print('Features Stds:',np.std(X,axis=0))"
      ],
      "execution_count": 26,
      "outputs": [
        {
          "output_type": "stream",
          "text": [
            "('Features Means:', array([-1.29262276e-16, -6.59637386e-17,  9.59472561e-17, -2.66520156e-17,\n",
            "        1.39923082e-16,  2.21211729e-16, -1.11938465e-16,  3.10495982e-16,\n",
            "        5.99670351e-16, -2.19879129e-17, -2.03887919e-16, -5.93007347e-17,\n",
            "       -5.59692327e-17]))\n",
            "('Features Stds:', array([1., 1., 1., 1., 1., 1., 1., 1., 1., 1., 1., 1., 1.]))\n"
          ],
          "name": "stdout"
        }
      ]
    },
    {
      "metadata": {
        "id": "0UlEGgmHzCcB",
        "colab_type": "text"
      },
      "cell_type": "markdown",
      "source": [
        "# See Pipelines...."
      ]
    },
    {
      "metadata": {
        "colab_type": "code",
        "id": "ee6LYYxlzBdF",
        "colab": {}
      },
      "cell_type": "code",
      "source": [
        "from sklearn.pipeline import make_pipeline\n",
        "from sklearn.preprocessing import StandardScaler\n",
        "from sklearn.decomposition import PCA\n",
        "\n",
        "\n",
        "# Fit to data using pipelined scaling, and PCA.\n",
        "scaler_pca = make_pipeline(StandardScaler(), PCA(n_components=5))\n",
        "X_PCA = scaler_pca.fit_transform(X_tmp)"
      ],
      "execution_count": 0,
      "outputs": []
    },
    {
      "metadata": {
        "colab_type": "text",
        "id": "-VIAsjzp0sEN"
      },
      "cell_type": "markdown",
      "source": [
        "# <font color=FF103>TO DO: apply the same process to TEST data churn-bigml-20.csv </font>\n",
        "\n",
        "- ## Generate X_test and y_test \n"
      ]
    },
    {
      "metadata": {
        "id": "_R2ycaoB14fJ",
        "colab_type": "code",
        "outputId": "13825694-4362-44f7-e135-bba25ea7d31c",
        "colab": {
          "base_uri": "https://localhost:8080/",
          "height": 127
        }
      },
      "cell_type": "code",
      "source": [
        "Test_data = pd.read_csv(\"churn-bigml-20.csv\")\n",
        "\n",
        "y_test=np.array(Test_data['Churn'].astype(int))\n",
        "\n",
        "\n",
        "Test_feat_space = Test_data.drop(to_drop,axis=1)\n",
        "\n",
        "Test_feat_space[yes_no_cols]=(Test_feat_space[yes_no_cols]=='Yes').astype(int)\n",
        "\n",
        "X_test_tmp=np.array(Test_feat_space)\n",
        "\n",
        "# NOTE: Scaler trained with Training (80) Data\n",
        "\n",
        "X_test = scaler.transform(X_test_tmp)\n",
        "\n",
        "print('Test: Features Means:',np.mean(X_test,axis=0))\n",
        "print('Test: Features Stds:',np.std(X_test,axis=0))"
      ],
      "execution_count": 28,
      "outputs": [
        {
          "output_type": "stream",
          "text": [
            "('Test: Features Means:', array([ 0.05613923, -0.07230878,  0.01884625,  0.02836506,  0.02705721,\n",
            "        0.03136589,  0.05828522,  0.02247933, -0.02922221,  0.00040132,\n",
            "        0.0004875 ,  0.02458299,  0.00082188]))\n",
            "('Test: Features Stds:', array([1.03115328, 0.89646047, 1.00927902, 1.02749956, 1.02337297,\n",
            "       1.01986957, 0.97526646, 0.93929796, 0.9793546 , 1.03824712,\n",
            "       1.00642743, 1.01011759, 1.01629857]))\n"
          ],
          "name": "stdout"
        }
      ]
    },
    {
      "metadata": {
        "id": "TBYskIFcFMTW",
        "colab_type": "text"
      },
      "cell_type": "markdown",
      "source": [
        "---\n",
        "---\n",
        "\n",
        "\n",
        "# <font color=green>Now: Fitting Models and Assessment</font>\n",
        "http://dataaspirant.com/2017/04/15/implement-logistic-regression-model-python-binary-classification/"
      ]
    },
    {
      "metadata": {
        "colab_type": "text",
        "id": "fAWs1QqivNuy"
      },
      "cell_type": "markdown",
      "source": [
        "# <font color=FF103>TO DO: Fit a <font color=green>LogisticRegression</font> on X (churn-bigml-80.cv) and TEST data on churn-bigml-20.csv </font>\n",
        "\n"
      ]
    },
    {
      "metadata": {
        "id": "NiZY-_LAvjWo",
        "colab_type": "code",
        "outputId": "acec2fc6-a609-4146-93a3-672ac2fdf873",
        "colab": {
          "base_uri": "https://localhost:8080/",
          "height": 110
        }
      },
      "cell_type": "code",
      "source": [
        "from sklearn.linear_model import LogisticRegression\n",
        "\n",
        "logistic_regression_model = LogisticRegression()\n",
        "logistic_regression_model.fit(X,y)\n",
        "\n",
        "y_pred_train = logistic_regression_model.predict(X)\n",
        "y_pred_test = logistic_regression_model.predict(X_test)\n",
        "\n",
        "ACC_train= np.mean(y == y_pred_train)\n",
        "ACC_test= np.mean(y_test == y_pred_test)\n",
        "\n",
        "print(\"Accuracy: Classification Error on TRAIN Data using LR %f \" % ACC_train)\n",
        "print(\"Accuracy: Classification Error on TEST  Data using LR %f \" % ACC_test)"
      ],
      "execution_count": 29,
      "outputs": [
        {
          "output_type": "stream",
          "text": [
            "Accuracy: Classification Error on TRAIN Data using LR 0.862716 \n",
            "Accuracy: Classification Error on TEST  Data using LR 0.854573 \n"
          ],
          "name": "stdout"
        },
        {
          "output_type": "stream",
          "text": [
            "/usr/local/lib/python2.7/dist-packages/sklearn/linear_model/logistic.py:433: FutureWarning: Default solver will be changed to 'lbfgs' in 0.22. Specify a solver to silence this warning.\n",
            "  FutureWarning)\n"
          ],
          "name": "stderr"
        }
      ]
    },
    {
      "metadata": {
        "id": "og3AXpBcyBB-",
        "colab_type": "text"
      },
      "cell_type": "markdown",
      "source": [
        "# <font color=FF103>TO DO: Now fit a <font color=green>SVM</font> on X (churn-bigml-80.cv) and TEST data on churn-bigml-20.csv </font>"
      ]
    },
    {
      "metadata": {
        "id": "vwazcv0AxIh4",
        "colab_type": "code",
        "outputId": "59d52f60-b58d-4d9d-b962-7e1caa4d6fd6",
        "colab": {
          "base_uri": "https://localhost:8080/",
          "height": 54
        }
      },
      "cell_type": "code",
      "source": [
        "from sklearn.svm import SVC\n",
        "\n",
        "SVM_model = SVC(probability=True)\n",
        "SVM_model.fit(X,y)\n",
        "\n",
        "y_pred_train = SVM_model.predict(X)\n",
        "y_pred_test = SVM_model.predict(X_test)\n",
        "\n",
        "ACC_SVM_train= np.mean(y == y_pred_train)\n",
        "ACC_SVM_test= np.mean(y_test == y_pred_test)\n",
        "\n",
        "print(\"Accuracy: Classification Error on TRAIN Data using SVM %f \" % ACC_SVM_train)\n",
        "print(\"Accuracy: Classification Error on TEST  Data using SVM %f \" % ACC_SVM_test)"
      ],
      "execution_count": 30,
      "outputs": [
        {
          "output_type": "stream",
          "text": [
            "Accuracy: Classification Error on TRAIN Data using SVM 0.943736 \n",
            "Accuracy: Classification Error on TEST  Data using SVM 0.920540 \n"
          ],
          "name": "stdout"
        }
      ]
    },
    {
      "metadata": {
        "colab_type": "text",
        "id": "QIiHycIYyLrJ"
      },
      "cell_type": "markdown",
      "source": [
        "# <font color=FF103>TO DO: ... what are the LR and SVM hyperparameters? are the \"best\"? </font>"
      ]
    },
    {
      "metadata": {
        "id": "WzjOZEl3ynjn",
        "colab_type": "code",
        "outputId": "a05946c0-60e5-4d4b-fd71-5f64ff5bc698",
        "colab": {
          "base_uri": "https://localhost:8080/",
          "height": 90
        }
      },
      "cell_type": "code",
      "source": [
        "logistic_regression_model"
      ],
      "execution_count": 31,
      "outputs": [
        {
          "output_type": "execute_result",
          "data": {
            "text/plain": [
              "LogisticRegression(C=1.0, class_weight=None, dual=False, fit_intercept=True,\n",
              "          intercept_scaling=1, max_iter=100, multi_class='warn',\n",
              "          n_jobs=None, penalty='l2', random_state=None, solver='warn',\n",
              "          tol=0.0001, verbose=0, warm_start=False)"
            ]
          },
          "metadata": {
            "tags": []
          },
          "execution_count": 31
        }
      ]
    },
    {
      "metadata": {
        "id": "4SwBtjPoyeRG",
        "colab_type": "code",
        "outputId": "3e5fd260-2af7-4395-8952-f9800e0d7105",
        "colab": {
          "base_uri": "https://localhost:8080/",
          "height": 90
        }
      },
      "cell_type": "code",
      "source": [
        "SVM_model"
      ],
      "execution_count": 32,
      "outputs": [
        {
          "output_type": "execute_result",
          "data": {
            "text/plain": [
              "SVC(C=1.0, cache_size=200, class_weight=None, coef0=0.0,\n",
              "  decision_function_shape='ovr', degree=3, gamma='auto_deprecated',\n",
              "  kernel='rbf', max_iter=-1, probability=True, random_state=None,\n",
              "  shrinking=True, tol=0.001, verbose=False)"
            ]
          },
          "metadata": {
            "tags": []
          },
          "execution_count": 32
        }
      ]
    },
    {
      "metadata": {
        "id": "Fcy-LoyGzMnh",
        "colab_type": "text"
      },
      "cell_type": "markdown",
      "source": [
        "---\n",
        "---\n",
        "\n",
        "# <font color=FF103>TO DO: ... search for best SVM hyperparameters?  </font>\n",
        "## See: [Tuning the hyper-parameters of an estimator](https://scikit-learn.org/stable/modules/grid_search.html)\n",
        "---\n",
        "\n",
        "## Try:\n",
        "\n",
        "- ### Kernel rbf\n",
        "- ### gamma values  1e-2, 1e-3\n",
        "- ### C values , 1, 10, 100, 1000"
      ]
    },
    {
      "metadata": {
        "id": "atmtjhaZAHxx",
        "colab_type": "code",
        "outputId": "af0f731c-eec8-4f08-8850-5a1ea6d8e990",
        "colab": {
          "base_uri": "https://localhost:8080/",
          "height": 293
        }
      },
      "cell_type": "code",
      "source": [
        "# Set the parameters by cross-validation\n",
        "#tuned_parameters = [{'kernel': ['linear'], 'C': [1, 10]}]\n",
        "\n",
        "tuned_parameters = [{'kernel': ['rbf'], 'gamma': [1e-2, 1e-3], 'C': [1, 10, 100, 1000]}]\n",
        "\n",
        "#tuned_parameters = [{'kernel': ['rbf'], 'gamma': [1e-2, 1e-3], 'C': [1, 10, 100, 1000]},\n",
        "#                          {'kernel': ['linear'], 'C': [1, 10, 100, 1000]}]\n",
        "\n",
        "\n",
        "from sklearn.model_selection import GridSearchCV\n",
        "from sklearn.metrics import classification_report\n",
        "\n",
        "#scores = ['accuracy']\n",
        "#scores = ['roc_auc']\n",
        "\n",
        "clf = GridSearchCV(SVC(), tuned_parameters, cv=5,\n",
        "                       scoring='roc_auc', n_jobs=-1, verbose=1)\n",
        "\n",
        "clf.fit(X, y)\n",
        "\n",
        "\n",
        "print(\"Best parameters set found on development set:\")\n",
        "print(\"\\n\")\n",
        "print(clf.best_params_)\n",
        "\n",
        "means = clf.cv_results_['mean_test_score']\n",
        "stds = clf.cv_results_['std_test_score']\n",
        "for mean, std, params in zip(means, stds, clf.cv_results_['params']):\n",
        "    print(\"%0.3f (+/-%0.03f) for %r\"\n",
        "              % (mean, std * 2, params))"
      ],
      "execution_count": 33,
      "outputs": [
        {
          "output_type": "stream",
          "text": [
            "Fitting 5 folds for each of 8 candidates, totalling 40 fits\n"
          ],
          "name": "stdout"
        },
        {
          "output_type": "stream",
          "text": [
            "[Parallel(n_jobs=-1)]: Using backend LokyBackend with 2 concurrent workers.\n"
          ],
          "name": "stderr"
        },
        {
          "output_type": "stream",
          "text": [
            "Best parameters set found on development set:\n",
            "\n",
            "\n",
            "{'kernel': 'rbf', 'C': 10, 'gamma': 0.01}\n",
            "0.885 (+/-0.063) for {'kernel': 'rbf', 'C': 1, 'gamma': 0.01}\n",
            "0.878 (+/-0.066) for {'kernel': 'rbf', 'C': 1, 'gamma': 0.001}\n",
            "0.892 (+/-0.052) for {'kernel': 'rbf', 'C': 10, 'gamma': 0.01}\n",
            "0.879 (+/-0.063) for {'kernel': 'rbf', 'C': 10, 'gamma': 0.001}\n",
            "0.892 (+/-0.047) for {'kernel': 'rbf', 'C': 100, 'gamma': 0.01}\n",
            "0.882 (+/-0.058) for {'kernel': 'rbf', 'C': 100, 'gamma': 0.001}\n",
            "0.888 (+/-0.056) for {'kernel': 'rbf', 'C': 1000, 'gamma': 0.01}\n",
            "0.887 (+/-0.046) for {'kernel': 'rbf', 'C': 1000, 'gamma': 0.001}\n"
          ],
          "name": "stdout"
        },
        {
          "output_type": "stream",
          "text": [
            "[Parallel(n_jobs=-1)]: Done  40 out of  40 | elapsed:    9.0s finished\n"
          ],
          "name": "stderr"
        }
      ]
    },
    {
      "metadata": {
        "id": "rmOHLvbEzmYl",
        "colab_type": "code",
        "outputId": "77720b7f-4fc7-4dc2-d1c7-4499c978a72a",
        "colab": {
          "base_uri": "https://localhost:8080/",
          "height": 311
        }
      },
      "cell_type": "code",
      "source": [
        "from sklearn.metrics import classification_report\n",
        "\n",
        "print(\"Detailed classification report:\")\n",
        "print(\"\\n\")\n",
        "print(\"The model is trained on the full development set.\")\n",
        "print(\"The scores are computed on the full evaluation set.\")\n",
        "print(\"\\n\")\n",
        "y_true, y_pred = y_test, clf.predict(X_test)\n",
        "print(classification_report(y_true, y_pred))\n",
        "\n",
        "\n"
      ],
      "execution_count": 34,
      "outputs": [
        {
          "output_type": "stream",
          "text": [
            "Detailed classification report:\n",
            "\n",
            "\n",
            "The model is trained on the full development set.\n",
            "The scores are computed on the full evaluation set.\n",
            "\n",
            "\n",
            "              precision    recall  f1-score   support\n",
            "\n",
            "           0       0.92      0.99      0.95       572\n",
            "           1       0.87      0.47      0.61        95\n",
            "\n",
            "   micro avg       0.91      0.91      0.91       667\n",
            "   macro avg       0.89      0.73      0.78       667\n",
            "weighted avg       0.91      0.91      0.90       667\n",
            "\n"
          ],
          "name": "stdout"
        }
      ]
    },
    {
      "metadata": {
        "colab_type": "text",
        "id": "uBpyB2ZmBOEw"
      },
      "cell_type": "markdown",
      "source": [
        "# <font color=FF103>TO DO: ... now train SVM with the best set of hyperparameters and do the test on X_test </font>"
      ]
    },
    {
      "metadata": {
        "id": "q8eJNOt-N-we",
        "colab_type": "code",
        "outputId": "98d5261b-ce69-4182-cb11-eee0eed2c27d",
        "colab": {
          "base_uri": "https://localhost:8080/",
          "height": 54
        }
      },
      "cell_type": "code",
      "source": [
        "from sklearn.svm import SVC\n",
        "\n",
        "SVM_model = SVC(probability=True, kernel = 'rbf', C = 10, gamma= 0.01)\n",
        "\n",
        "SVM_model.fit(X,y)\n",
        "\n",
        "y_pred_train = SVM_model.predict(X)\n",
        "y_pred_test = SVM_model.predict(X_test)\n",
        "\n",
        "ACC_SVM_train= np.mean(y == y_pred_train)\n",
        "ACC_SVM_test= np.mean(y_test == y_pred_test)\n",
        "\n",
        "print(\"Accuracy: Classification Error on TRAIN Data using SVM %f \" % ACC_SVM_train)\n",
        "print(\"Accuracy: Classification Error on TEST  Data using SVM %f \" % ACC_SVM_test)"
      ],
      "execution_count": 35,
      "outputs": [
        {
          "output_type": "stream",
          "text": [
            "Accuracy: Classification Error on TRAIN Data using SVM 0.917854 \n",
            "Accuracy: Classification Error on TEST  Data using SVM 0.914543 \n"
          ],
          "name": "stdout"
        }
      ]
    },
    {
      "metadata": {
        "id": "TCA3ChGR0I-m",
        "colab_type": "text"
      },
      "cell_type": "markdown",
      "source": [
        "---\n",
        "# <font color=red>See: </font>[Nested versus non-nested cross-validation](https://scikit-learn.org/stable/auto_examples/model_selection/plot_nested_cross_validation_iris.html)\n",
        "---\n"
      ]
    },
    {
      "metadata": {
        "id": "5PtgLLKpFMUL",
        "colab_type": "text"
      },
      "cell_type": "markdown",
      "source": [
        "# <font color=FF103>TO DO: remember it is very important to go beyond Accuracy   </font>\n",
        "- ## Check what accuraccy we will have if you predict always \"True\" "
      ]
    },
    {
      "metadata": {
        "id": "EClRay7_4ot8",
        "colab_type": "code",
        "outputId": "b534fe9a-5541-42e5-9861-f749cd77092e",
        "colab": {
          "base_uri": "https://localhost:8080/",
          "height": 201
        }
      },
      "cell_type": "code",
      "source": [
        "y_false_train = np.zeros(len(y))\n",
        "y_false_test = np.zeros(len(y_test)) \n",
        "\n",
        "ACC_false_train= np.mean(y == y_false_train)\n",
        "ACC_false_test= np.mean(y_test == y_false_test)\n",
        "\n",
        "print(\"Accuracy: Classification Error on TRAIN Data using False %f \" % ACC_false_train)\n",
        "print(\"Accuracy: Classification Error on TEST  Data using False %f \" % ACC_false_test)\n",
        "print(\"\\n\")\n",
        "\n",
        "print(\"Accuracy: Classification Error on TRAIN Data using SVM %f \" % ACC_SVM_train)\n",
        "print(\"Accuracy: Classification Error on TEST  Data using SVM %f \" % ACC_SVM_test)\n",
        "print(\"\\n\")\n",
        "\n",
        "print(\"Accuracy: Classification Error on TRAIN Data using LR %f \" % ACC_train)\n",
        "print(\"Accuracy: Classification Error on TEST  Data using LR %f \" % ACC_test)"
      ],
      "execution_count": 36,
      "outputs": [
        {
          "output_type": "stream",
          "text": [
            "Accuracy: Classification Error on TRAIN Data using False 0.854464 \n",
            "Accuracy: Classification Error on TEST  Data using False 0.857571 \n",
            "\n",
            "\n",
            "Accuracy: Classification Error on TRAIN Data using SVM 0.917854 \n",
            "Accuracy: Classification Error on TEST  Data using SVM 0.914543 \n",
            "\n",
            "\n",
            "Accuracy: Classification Error on TRAIN Data using LR 0.862716 \n",
            "Accuracy: Classification Error on TEST  Data using LR 0.854573 \n"
          ],
          "name": "stdout"
        }
      ]
    },
    {
      "metadata": {
        "colab_type": "text",
        "id": "8zx8rrHh8eyl"
      },
      "cell_type": "markdown",
      "source": [
        "---\n",
        "# <font color=FF103>TO DO: ... beyond Accuracy   </font>\n",
        "- ## Explore the confusion matrix. on y_test  & y_pred_test with SVM  "
      ]
    },
    {
      "metadata": {
        "id": "n8rVrxLsFMUO",
        "colab_type": "code",
        "outputId": "463ff934-c485-4cdd-f33d-1411cfe3c329",
        "colab": {
          "base_uri": "https://localhost:8080/",
          "height": 54
        }
      },
      "cell_type": "code",
      "source": [
        "from sklearn.metrics import confusion_matrix\n",
        "\n",
        "confusion_matrix(y_test,y_pred_test)"
      ],
      "execution_count": 37,
      "outputs": [
        {
          "output_type": "execute_result",
          "data": {
            "text/plain": [
              "array([[565,   7],\n",
              "       [ 50,  45]])"
            ]
          },
          "metadata": {
            "tags": []
          },
          "execution_count": 37
        }
      ]
    },
    {
      "metadata": {
        "id": "v2pXkeye8_Th",
        "colab_type": "text"
      },
      "cell_type": "markdown",
      "source": [
        "- ## ... as with Deep Learning we can use the <font color=darkorange>PANDAS</font> confusion matrix"
      ]
    },
    {
      "metadata": {
        "id": "AGcELZArFMUT",
        "colab_type": "code",
        "outputId": "b04b86a8-b641-4028-e4e3-d36697c6bfc1",
        "colab": {
          "base_uri": "https://localhost:8080/",
          "height": 293
        }
      },
      "cell_type": "code",
      "source": [
        "! pip install pandas_ml"
      ],
      "execution_count": 38,
      "outputs": [
        {
          "output_type": "stream",
          "text": [
            "Collecting pandas_ml\n",
            "\u001b[?25l  Downloading https://files.pythonhosted.org/packages/c1/28/19289aabaecac9bd7ea34c43310fa16bbdda818e1f635747e81b376526ca/pandas_ml-0.5.0.tar.gz (76kB)\n",
            "\u001b[K    100% |████████████████████████████████| 81kB 3.1MB/s \n",
            "\u001b[?25hRequirement already satisfied: pandas>=0.17.0 in /usr/local/lib/python2.7/dist-packages (from pandas_ml) (0.22.0)\n",
            "Requirement already satisfied: enum34 in /usr/local/lib/python2.7/dist-packages (from pandas_ml) (1.1.6)\n",
            "Requirement already satisfied: pytz>=2011k in /usr/local/lib/python2.7/dist-packages (from pandas>=0.17.0->pandas_ml) (2018.7)\n",
            "Requirement already satisfied: python-dateutil in /usr/local/lib/python2.7/dist-packages (from pandas>=0.17.0->pandas_ml) (2.5.3)\n",
            "Requirement already satisfied: numpy>=1.9.0 in /usr/local/lib/python2.7/dist-packages (from pandas>=0.17.0->pandas_ml) (1.14.6)\n",
            "Requirement already satisfied: six>=1.5 in /usr/local/lib/python2.7/dist-packages (from python-dateutil->pandas>=0.17.0->pandas_ml) (1.11.0)\n",
            "Building wheels for collected packages: pandas-ml\n",
            "  Running setup.py bdist_wheel for pandas-ml ... \u001b[?25l-\b \b\\\b \bdone\n",
            "\u001b[?25h  Stored in directory: /root/.cache/pip/wheels/4b/b0/88/51fb7203a0f81becae3e92d5bf9fee0460375e5408e67a7dc3\n",
            "Successfully built pandas-ml\n",
            "Installing collected packages: pandas-ml\n",
            "Successfully installed pandas-ml-0.5.0\n"
          ],
          "name": "stdout"
        }
      ]
    },
    {
      "metadata": {
        "id": "vXXdLHMuFMUX",
        "colab_type": "code",
        "colab": {}
      },
      "cell_type": "code",
      "source": [
        "from pandas_ml import ConfusionMatrix\n",
        "\n",
        "cm = ConfusionMatrix(y_test,y_pred_test)\n"
      ],
      "execution_count": 0,
      "outputs": []
    },
    {
      "metadata": {
        "id": "GCnwoYcfFMUf",
        "colab_type": "code",
        "outputId": "c893debf-30dc-4936-93b8-8305d7f5efef",
        "colab": {
          "base_uri": "https://localhost:8080/",
          "height": 495
        }
      },
      "cell_type": "code",
      "source": [
        "cm.print_stats()"
      ],
      "execution_count": 40,
      "outputs": [
        {
          "output_type": "stream",
          "text": [
            "population: 667\n",
            "P: 95\n",
            "N: 572\n",
            "PositiveTest: 52\n",
            "NegativeTest: 615\n",
            "TP: 45\n",
            "TN: 565\n",
            "FP: 7\n",
            "FN: 50\n",
            "TPR: 0.47368421052631576\n",
            "TNR: 0.9877622377622378\n",
            "PPV: 0.8653846153846154\n",
            "NPV: 0.9186991869918699\n",
            "FPR: 0.012237762237762238\n",
            "FDR: 0.1346153846153846\n",
            "FNR: 0.5263157894736842\n",
            "ACC: 0.9145427286356822\n",
            "F1_score: 0.6122448979591837\n",
            "MCC: 0.6015086747231608\n",
            "informedness: 0.46144644828855363\n",
            "markedness: 0.7840838023764853\n",
            "prevalence: 0.1424287856071964\n",
            "LRP: 38.70676691729323\n",
            "LRN: 0.5328365160689333\n",
            "DOR: 72.64285714285714\n",
            "FOR: 0.08130081300813008\n"
          ],
          "name": "stdout"
        }
      ]
    },
    {
      "metadata": {
        "id": "Vf9SNXTw9x3F",
        "colab_type": "code",
        "colab": {}
      },
      "cell_type": "code",
      "source": [
        ""
      ],
      "execution_count": 0,
      "outputs": []
    },
    {
      "metadata": {
        "id": "VDqouZ51FMUj",
        "colab_type": "code",
        "outputId": "2eb14b42-c165-46c3-e4d0-e026b185c52d",
        "colab": {
          "base_uri": "https://localhost:8080/",
          "height": 371
        }
      },
      "cell_type": "code",
      "source": [
        "cm.plot(backend='seaborn',normalized=True)\n",
        "print(cm)"
      ],
      "execution_count": 41,
      "outputs": [
        {
          "output_type": "stream",
          "text": [
            "Predicted  False  True  __all__\n",
            "Actual                         \n",
            "False        565     7      572\n",
            "True          50    45       95\n",
            "__all__      615    52      667\n"
          ],
          "name": "stdout"
        },
        {
          "output_type": "display_data",
          "data": {
            "image/png": "[encoded data removed]",
            "text/plain": [
              "<matplotlib.figure.Figure at 0x7f5e03003b90>"
            ]
          },
          "metadata": {
            "tags": []
          }
        }
      ]
    },
    {
      "metadata": {
        "id": "WrIGdni4FMUm",
        "colab_type": "text"
      },
      "cell_type": "markdown",
      "source": [
        "---\n",
        "# <font color=FF103>TO DO: ... beyond Accuracy   </font>\n",
        "- ## Posterior probabilities are needed to analyze DET (or ROC) curves"
      ]
    },
    {
      "metadata": {
        "id": "GvgNpYtOFMUn",
        "colab_type": "code",
        "colab": {}
      },
      "cell_type": "code",
      "source": [
        "# First get posteriors...\n",
        "probs = SVM_model.predict_proba(X_test)"
      ],
      "execution_count": 0,
      "outputs": []
    },
    {
      "metadata": {
        "id": "DbpzkHHDFMUr",
        "colab_type": "code",
        "outputId": "8175fc48-ce88-4370-f981-8c141e919f5e",
        "colab": {
          "base_uri": "https://localhost:8080/",
          "height": 35
        }
      },
      "cell_type": "code",
      "source": [
        "from sklearn import metrics\n",
        "\n",
        "preds = probs[:,1]\n",
        "\n",
        "# calculate the fpr and tpr for all thresholds of the classification\n",
        "fpr, tpr, threshold = metrics.roc_curve(y_test, preds)\n",
        "roc_auc = metrics.auc(fpr, tpr)\n",
        "\n",
        "print('AUC : %f' % roc_auc)"
      ],
      "execution_count": 43,
      "outputs": [
        {
          "output_type": "stream",
          "text": [
            "AUC : 0.917832\n"
          ],
          "name": "stdout"
        }
      ]
    },
    {
      "metadata": {
        "id": "QbglTaiRFMUy",
        "colab_type": "code",
        "outputId": "8c172294-429a-4d21-8bc7-66ee4b36f8b0",
        "colab": {
          "base_uri": "https://localhost:8080/",
          "height": 294
        }
      },
      "cell_type": "code",
      "source": [
        "plt.title('Receiver Operating Characteristic')\n",
        "plt.plot(fpr, tpr, 'b', label = 'AUC = %0.2f' % roc_auc)\n",
        "plt.legend(loc = 'lower right')\n",
        "plt.plot([0, 1], [0, 1],'r--')\n",
        "plt.xlim([0, 1])\n",
        "plt.ylim([0, 1])\n",
        "plt.ylabel('True Positive Rate')\n",
        "plt.xlabel('False Positive Rate')\n",
        "plt.show()\n"
      ],
      "execution_count": 44,
      "outputs": [
        {
          "output_type": "display_data",
          "data": {
            "image/png": "[encoded data removed]",
            "text/plain": [
              "<matplotlib.figure.Figure at 0x7f5e02756310>"
            ]
          },
          "metadata": {
            "tags": []
          }
        }
      ]
    },
    {
      "metadata": {
        "colab_type": "text",
        "id": "WDUaXIVrJFc0"
      },
      "cell_type": "markdown",
      "source": [
        "---\n",
        "# <font color=FF103>TO DO: try improving the prediction of churn True cases  </font>\n",
        "\n",
        "## See SVC docummentation: [sklearn SVC](https://scikit-learn.org/stable/modules/generated/sklearn.svm.SVC.html)\n",
        "\n",
        "**class_weight : {dict, ‘balanced’}, optional**\n",
        "\n",
        "     Set the parameter C of class i to class_weight[i]*C for SVC.\n",
        "        example: class_weight={1: 10}\n",
        "    \n",
        "    If not given, all classes are supposed to have weight one.\n",
        "    \n",
        "    The “balanced” mode uses the values of y to automatically adjust weights inversely proportional to class frequencies in the input data as n_samples / (n_classes * np.bincount(y))\n",
        "\n",
        "---\n"
      ]
    },
    {
      "metadata": {
        "id": "_8nSulsXJiFh",
        "colab_type": "code",
        "outputId": "bccc06e2-b0f6-4deb-f645-7084e762e480",
        "colab": {
          "base_uri": "https://localhost:8080/",
          "height": 54
        }
      },
      "cell_type": "code",
      "source": [
        "from sklearn.svm import SVC\n",
        "\n",
        "SVM_model = SVC(probability=True, kernel = 'rbf', C = 10, gamma= 0.01, class_weight=\"balanced\")\n",
        "\n",
        "\n",
        "SVM_model.fit(X,y)\n",
        "\n",
        "y_pred_train = SVM_model.predict(X)\n",
        "y_pred_test = SVM_model.predict(X_test)\n",
        "\n",
        "ACC_SVM_train= np.mean(y == y_pred_train)\n",
        "ACC_SVM_test= np.mean(y_test == y_pred_test)\n",
        "\n",
        "print(\"Accuracy: Classification Error on TRAIN Data using SVM %f \" % ACC_SVM_train)\n",
        "print(\"Accuracy: Classification Error on TEST  Data using SVM %f \" % ACC_SVM_test)\n"
      ],
      "execution_count": 46,
      "outputs": [
        {
          "output_type": "stream",
          "text": [
            "Accuracy: Classification Error on TRAIN Data using SVM 0.878470 \n",
            "Accuracy: Classification Error on TEST  Data using SVM 0.857571 \n"
          ],
          "name": "stdout"
        }
      ]
    },
    {
      "metadata": {
        "colab_type": "code",
        "id": "elOE5GBhO3jj",
        "outputId": "c5103612-7f00-4aef-80ad-e69cf429bda0",
        "colab": {
          "base_uri": "https://localhost:8080/",
          "height": 371
        }
      },
      "cell_type": "code",
      "source": [
        "cm = ConfusionMatrix(y_test,y_pred_test)\n",
        "cm.plot(backend='seaborn',normalized=True)\n",
        "print(cm)"
      ],
      "execution_count": 47,
      "outputs": [
        {
          "output_type": "stream",
          "text": [
            "Predicted  False  True  __all__\n",
            "Actual                         \n",
            "False        491    81      572\n",
            "True          14    81       95\n",
            "__all__      505   162      667\n"
          ],
          "name": "stdout"
        },
        {
          "output_type": "display_data",
          "data": {
            "image/png": "[encoded data removed]",
            "text/plain": [
              "<matplotlib.figure.Figure at 0x7f5e03003590>"
            ]
          },
          "metadata": {
            "tags": []
          }
        }
      ]
    },
    {
      "metadata": {
        "id": "U1hMvzosFMU3",
        "colab_type": "text"
      },
      "cell_type": "markdown",
      "source": [
        "## Compare with QDA"
      ]
    },
    {
      "metadata": {
        "id": "nhUbt_6uFMU6",
        "colab_type": "code",
        "colab": {}
      },
      "cell_type": "code",
      "source": [
        "from sklearn.discriminant_analysis import LinearDiscriminantAnalysis\n",
        "from sklearn.discriminant_analysis import QuadraticDiscriminantAnalysis"
      ],
      "execution_count": 0,
      "outputs": []
    },
    {
      "metadata": {
        "id": "CrDTfHrxDk20",
        "colab_type": "text"
      },
      "cell_type": "markdown",
      "source": [
        "- ## In this case you can use  *priors*=( ?? ,  ??)\n",
        "\n",
        "### Sklearn documentation: [QuadraticDiscriminantAnalysis](https://scikit-learn.org/stable/modules/generated/sklearn.discriminant_analysis.QuadraticDiscriminantAnalysis.html#sklearn.discriminant_analysis.QuadraticDiscriminantAnalysis)"
      ]
    },
    {
      "metadata": {
        "id": "XFceBX76FMU-",
        "colab_type": "code",
        "outputId": "07c1c966-b8e8-4a6d-9934-167695770cd0",
        "colab": {
          "base_uri": "https://localhost:8080/",
          "height": 294
        }
      },
      "cell_type": "code",
      "source": [
        "qda_model = QuadraticDiscriminantAnalysis(priors=(0.45,0.55))\n",
        "qda_model.fit(X,y)\n",
        "\n",
        "y_pred_qda = qda_model.predict(X_test)\n",
        "probs_qda = qda_model.predict_proba(X_test)\n",
        "\n",
        "preds_qda = probs_qda[:,1]\n",
        "fpr_qda, tpr_qda, threshold_qda = metrics.roc_curve(y_test, preds_qda)\n",
        "roc_auc_qda = metrics.auc(fpr_qda, tpr_qda)\n",
        "\n",
        "plt.title('Receiver Operating Characteristic')\n",
        "plt.plot(fpr, tpr, 'b', label = 'AUC LR = %0.2f' % roc_auc)\n",
        "plt.plot(fpr_qda, tpr_qda, 'g', label = 'AUC QDA = %0.2f' % roc_auc_qda)\n",
        "plt.legend(loc = 'lower right')\n",
        "plt.plot([0, 1], [0, 1],'r--')\n",
        "plt.xlim([0, 1])\n",
        "plt.ylim([0, 1])\n",
        "plt.ylabel('True Positive Rate')\n",
        "plt.xlabel('False Positive Rate')\n",
        "plt.show()\n",
        "\n"
      ],
      "execution_count": 49,
      "outputs": [
        {
          "output_type": "display_data",
          "data": {
            "image/png": "[encoded data removed]",
            "text/plain": [
              "<matplotlib.figure.Figure at 0x7f5e02fab450>"
            ]
          },
          "metadata": {
            "tags": []
          }
        }
      ]
    },
    {
      "metadata": {
        "id": "LGLjox_gFMVI",
        "colab_type": "code",
        "outputId": "f5f2b9e2-7573-4808-f138-65d8f02e6264",
        "colab": {
          "base_uri": "https://localhost:8080/",
          "height": 371
        }
      },
      "cell_type": "code",
      "source": [
        "cm_qda = ConfusionMatrix(y_test, y_pred_qda)\n",
        "cm_qda.plot(backend='seaborn',normalized=True)\n",
        "print(cm_qda)"
      ],
      "execution_count": 50,
      "outputs": [
        {
          "output_type": "stream",
          "text": [
            "Predicted  False  True  __all__\n",
            "Actual                         \n",
            "False        453   119      572\n",
            "True          16    79       95\n",
            "__all__      469   198      667\n"
          ],
          "name": "stdout"
        },
        {
          "output_type": "display_data",
          "data": {
            "image/png": "[encoded data removed]",
            "text/plain": [
              "<matplotlib.figure.Figure at 0x7f5e0268e550>"
            ]
          },
          "metadata": {
            "tags": []
          }
        }
      ]
    },
    {
      "metadata": {
        "id": "J-H6XLi8FMVV",
        "colab_type": "code",
        "outputId": "db857095-38be-4121-fd91-d265b49ca29c",
        "colab": {
          "base_uri": "https://localhost:8080/",
          "height": 495
        }
      },
      "cell_type": "code",
      "source": [
        "cm_qda.print_stats()"
      ],
      "execution_count": 51,
      "outputs": [
        {
          "output_type": "stream",
          "text": [
            "population: 667\n",
            "P: 95\n",
            "N: 572\n",
            "PositiveTest: 198\n",
            "NegativeTest: 469\n",
            "TP: 79\n",
            "TN: 453\n",
            "FP: 119\n",
            "FN: 16\n",
            "TPR: 0.8315789473684211\n",
            "TNR: 0.791958041958042\n",
            "PPV: 0.398989898989899\n",
            "NPV: 0.9658848614072495\n",
            "FPR: 0.20804195804195805\n",
            "FDR: 0.601010101010101\n",
            "FNR: 0.16842105263157894\n",
            "ACC: 0.7976011994002998\n",
            "F1_score: 0.5392491467576792\n",
            "MCC: 0.4769831334326744\n",
            "informedness: 0.6235369893264631\n",
            "markedness: 0.3648747603971485\n",
            "prevalence: 0.1424287856071964\n",
            "LRP: 3.9971693940734188\n",
            "LRN: 0.21266411060764492\n",
            "DOR: 18.795693277310924\n",
            "FOR: 0.03411513859275053\n"
          ],
          "name": "stdout"
        }
      ]
    },
    {
      "metadata": {
        "colab_type": "text",
        "id": "8z5p6QUfAb94"
      },
      "cell_type": "markdown",
      "source": [
        "---\n",
        "---\n",
        "\n",
        "# <font color=FF103>TO DO: In case you need \"interpretability\"  </font>\n",
        "\n",
        "- ### USE:  max_depth=3"
      ]
    },
    {
      "metadata": {
        "collapsed": true,
        "colab_type": "text",
        "id": "oHp5bqUuAb-B"
      },
      "cell_type": "markdown",
      "source": [
        "## <font color='green'>Using Classification Tree</font>"
      ]
    },
    {
      "metadata": {
        "colab_type": "code",
        "id": "P5Bc3vsbEm70",
        "colab": {}
      },
      "cell_type": "code",
      "source": [
        "from sklearn.tree import DecisionTreeClassifier\n",
        "\n",
        "tree_model = DecisionTreeClassifier(max_depth=3).fit(churn_feat_space, y)"
      ],
      "execution_count": 0,
      "outputs": []
    },
    {
      "metadata": {
        "colab_type": "code",
        "outputId": "67781214-a09b-4bd2-cf7e-82bb1eb6b734",
        "id": "-4hrdyfaAb-j",
        "colab": {
          "base_uri": "https://localhost:8080/",
          "height": 127
        }
      },
      "cell_type": "code",
      "source": [
        "print(tree_model)"
      ],
      "execution_count": 53,
      "outputs": [
        {
          "output_type": "stream",
          "text": [
            "DecisionTreeClassifier(class_weight=None, criterion='gini', max_depth=3,\n",
            "            max_features=None, max_leaf_nodes=None,\n",
            "            min_impurity_decrease=0.0, min_impurity_split=None,\n",
            "            min_samples_leaf=1, min_samples_split=2,\n",
            "            min_weight_fraction_leaf=0.0, presort=False, random_state=None,\n",
            "            splitter='best')\n"
          ],
          "name": "stdout"
        }
      ]
    },
    {
      "metadata": {
        "colab_type": "text",
        "id": "wsKt1oboAb-v"
      },
      "cell_type": "markdown",
      "source": [
        "- ## To visualize the tree"
      ]
    },
    {
      "metadata": {
        "colab_type": "code",
        "outputId": "4f8b0495-2c39-45bb-8990-c1bffec0e4e5",
        "id": "srWOx0utAb-x",
        "colab": {
          "base_uri": "https://localhost:8080/",
          "height": 1982
        }
      },
      "cell_type": "code",
      "source": [
        "! apt-get update\n",
        "! apt-get autoremove graphviz\n",
        "! apt-get install graphviz"
      ],
      "execution_count": 54,
      "outputs": [
        {
          "output_type": "stream",
          "text": [
            "Ign:1 https://developer.download.nvidia.com/compute/cuda/repos/ubuntu1710/x86_64  InRelease\n",
            "Get:2 http://security.ubuntu.com/ubuntu bionic-security InRelease [83.2 kB]\n",
            "Get:3 http://ppa.launchpad.net/graphics-drivers/ppa/ubuntu bionic InRelease [21.3 kB]\n",
            "Hit:4 http://archive.ubuntu.com/ubuntu bionic InRelease\n",
            "Ign:5 https://developer.download.nvidia.com/compute/machine-learning/repos/ubuntu1604/x86_64  InRelease\n",
            "Hit:6 https://developer.download.nvidia.com/compute/cuda/repos/ubuntu1710/x86_64  Release\n",
            "Get:7 https://developer.download.nvidia.com/compute/machine-learning/repos/ubuntu1604/x86_64  Release [564 B]\n",
            "Get:8 http://archive.ubuntu.com/ubuntu bionic-updates InRelease [88.7 kB]\n",
            "Get:9 https://developer.download.nvidia.com/compute/machine-learning/repos/ubuntu1604/x86_64  Release.gpg [801 B]\n",
            "Get:10 http://archive.ubuntu.com/ubuntu bionic-backports InRelease [74.6 kB]\n",
            "Get:12 http://ppa.launchpad.net/graphics-drivers/ppa/ubuntu bionic/main amd64 Packages [27.3 kB]\n",
            "Get:13 https://developer.download.nvidia.com/compute/machine-learning/repos/ubuntu1604/x86_64  Packages [35.8 kB]\n",
            "Get:14 http://security.ubuntu.com/ubuntu bionic-security/universe amd64 Packages [133 kB]\n",
            "Get:15 http://security.ubuntu.com/ubuntu bionic-security/main amd64 Packages [281 kB]\n",
            "Get:16 http://archive.ubuntu.com/ubuntu bionic-updates/main amd64 Packages [597 kB]\n",
            "Get:17 http://archive.ubuntu.com/ubuntu bionic-updates/universe amd64 Packages [900 kB]\n",
            "Fetched 2,243 kB in 2s (995 kB/s)\n",
            "Reading package lists... Done\n",
            "Reading package lists... Done\n",
            "Building dependency tree       \n",
            "Reading state information... Done\n",
            "The following packages will be REMOVED:\n",
            "  graphviz libann0 libcdt5 libcgraph6 libgts-0.7-5 libgvc6 libgvpr2\n",
            "  liblab-gamut1 libpathplan4\n",
            "0 upgraded, 0 newly installed, 9 to remove and 13 not upgraded.\n",
            "After this operation, 8,679 kB disk space will be freed.\n",
            "(Reading database ... 110377 files and directories currently installed.)\n",
            "Removing graphviz (2.40.1-2) ...\n",
            "Removing libann0 (1.1.2+doc-6) ...\n",
            "Removing libgvpr2 (2.40.1-2) ...\n",
            "Removing libgvc6 (2.40.1-2) ...\n",
            "Removing libcgraph6 (2.40.1-2) ...\n",
            "Removing libgts-0.7-5:amd64 (0.7.6+darcs121130-4) ...\n",
            "Removing liblab-gamut1 (2.40.1-2) ...\n",
            "Removing libpathplan4 (2.40.1-2) ...\n",
            "Removing libcdt5 (2.40.1-2) ...\n",
            "Processing triggers for libc-bin (2.27-3ubuntu1) ...\n",
            "Processing triggers for man-db (2.8.3-2ubuntu0.1) ...\n",
            "Reading package lists... Done\n",
            "Building dependency tree       \n",
            "Reading state information... Done\n",
            "The following additional packages will be installed:\n",
            "  libann0 libcdt5 libcgraph6 libgts-0.7-5 libgts-bin libgvc6 libgvpr2\n",
            "  liblab-gamut1 libpathplan4\n",
            "Suggested packages:\n",
            "  gsfonts graphviz-doc\n",
            "The following NEW packages will be installed:\n",
            "  graphviz libann0 libcdt5 libcgraph6 libgts-0.7-5 libgts-bin libgvc6 libgvpr2\n",
            "  liblab-gamut1 libpathplan4\n",
            "0 upgraded, 10 newly installed, 0 to remove and 13 not upgraded.\n",
            "Need to get 1,847 kB of archives.\n",
            "After this operation, 8,870 kB of additional disk space will be used.\n",
            "Get:1 http://archive.ubuntu.com/ubuntu bionic/universe amd64 libann0 amd64 1.1.2+doc-6 [24.8 kB]\n",
            "Get:2 http://archive.ubuntu.com/ubuntu bionic/universe amd64 libcdt5 amd64 2.40.1-2 [19.6 kB]\n",
            "Get:3 http://archive.ubuntu.com/ubuntu bionic/universe amd64 libcgraph6 amd64 2.40.1-2 [40.8 kB]\n",
            "Get:4 http://archive.ubuntu.com/ubuntu bionic/universe amd64 libgts-0.7-5 amd64 0.7.6+darcs121130-4 [150 kB]\n",
            "Get:5 http://archive.ubuntu.com/ubuntu bionic/universe amd64 libpathplan4 amd64 2.40.1-2 [22.6 kB]\n",
            "Get:6 http://archive.ubuntu.com/ubuntu bionic/universe amd64 libgvc6 amd64 2.40.1-2 [601 kB]\n",
            "Get:7 http://archive.ubuntu.com/ubuntu bionic/universe amd64 libgvpr2 amd64 2.40.1-2 [169 kB]\n",
            "Get:8 http://archive.ubuntu.com/ubuntu bionic/universe amd64 liblab-gamut1 amd64 2.40.1-2 [178 kB]\n",
            "Get:9 http://archive.ubuntu.com/ubuntu bionic/universe amd64 graphviz amd64 2.40.1-2 [601 kB]\n",
            "Get:10 http://archive.ubuntu.com/ubuntu bionic/universe amd64 libgts-bin amd64 0.7.6+darcs121130-4 [41.3 kB]\n",
            "Fetched 1,847 kB in 1s (2,056 kB/s)\n",
            "Selecting previously unselected package libann0.\n",
            "(Reading database ... 110219 files and directories currently installed.)\n",
            "Preparing to unpack .../0-libann0_1.1.2+doc-6_amd64.deb ...\n",
            "Unpacking libann0 (1.1.2+doc-6) ...\n",
            "Selecting previously unselected package libcdt5.\n",
            "Preparing to unpack .../1-libcdt5_2.40.1-2_amd64.deb ...\n",
            "Unpacking libcdt5 (2.40.1-2) ...\n",
            "Selecting previously unselected package libcgraph6.\n",
            "Preparing to unpack .../2-libcgraph6_2.40.1-2_amd64.deb ...\n",
            "Unpacking libcgraph6 (2.40.1-2) ...\n",
            "Selecting previously unselected package libgts-0.7-5:amd64.\n",
            "Preparing to unpack .../3-libgts-0.7-5_0.7.6+darcs121130-4_amd64.deb ...\n",
            "Unpacking libgts-0.7-5:amd64 (0.7.6+darcs121130-4) ...\n",
            "Selecting previously unselected package libpathplan4.\n",
            "Preparing to unpack .../4-libpathplan4_2.40.1-2_amd64.deb ...\n",
            "Unpacking libpathplan4 (2.40.1-2) ...\n",
            "Selecting previously unselected package libgvc6.\n",
            "Preparing to unpack .../5-libgvc6_2.40.1-2_amd64.deb ...\n",
            "Unpacking libgvc6 (2.40.1-2) ...\n",
            "Selecting previously unselected package libgvpr2.\n",
            "Preparing to unpack .../6-libgvpr2_2.40.1-2_amd64.deb ...\n",
            "Unpacking libgvpr2 (2.40.1-2) ...\n",
            "Selecting previously unselected package liblab-gamut1.\n",
            "Preparing to unpack .../7-liblab-gamut1_2.40.1-2_amd64.deb ...\n",
            "Unpacking liblab-gamut1 (2.40.1-2) ...\n",
            "Selecting previously unselected package graphviz.\n",
            "Preparing to unpack .../8-graphviz_2.40.1-2_amd64.deb ...\n",
            "Unpacking graphviz (2.40.1-2) ...\n",
            "Selecting previously unselected package libgts-bin.\n",
            "Preparing to unpack .../9-libgts-bin_0.7.6+darcs121130-4_amd64.deb ...\n",
            "Unpacking libgts-bin (0.7.6+darcs121130-4) ...\n",
            "Setting up libgts-0.7-5:amd64 (0.7.6+darcs121130-4) ...\n",
            "Setting up libpathplan4 (2.40.1-2) ...\n",
            "Setting up liblab-gamut1 (2.40.1-2) ...\n",
            "Processing triggers for libc-bin (2.27-3ubuntu1) ...\n",
            "Setting up libann0 (1.1.2+doc-6) ...\n",
            "Processing triggers for man-db (2.8.3-2ubuntu0.1) ...\n",
            "Setting up libgts-bin (0.7.6+darcs121130-4) ...\n",
            "Setting up libcdt5 (2.40.1-2) ...\n",
            "Setting up libcgraph6 (2.40.1-2) ...\n",
            "Setting up libgvc6 (2.40.1-2) ...\n",
            "Setting up libgvpr2 (2.40.1-2) ...\n",
            "Setting up graphviz (2.40.1-2) ...\n",
            "Processing triggers for libc-bin (2.27-3ubuntu1) ...\n"
          ],
          "name": "stdout"
        }
      ]
    },
    {
      "metadata": {
        "colab_type": "code",
        "outputId": "17e93534-fafd-4d56-eb3b-c997ca73bb53",
        "id": "l4VuYlw0Ab_A",
        "colab": {
          "base_uri": "https://localhost:8080/",
          "height": 35
        }
      },
      "cell_type": "code",
      "source": [
        "! pip install graphviz"
      ],
      "execution_count": 55,
      "outputs": [
        {
          "output_type": "stream",
          "text": [
            "Requirement already satisfied: graphviz in /usr/local/lib/python2.7/dist-packages (0.10.1)\n"
          ],
          "name": "stdout"
        }
      ]
    },
    {
      "metadata": {
        "colab_type": "code",
        "outputId": "2f2abd24-a4ed-4a2d-e143-15dbaef1b713",
        "id": "MnnSGZOqAb_O",
        "colab": {
          "base_uri": "https://localhost:8080/",
          "height": 54
        }
      },
      "cell_type": "code",
      "source": [
        "! pip install pydotplus"
      ],
      "execution_count": 56,
      "outputs": [
        {
          "output_type": "stream",
          "text": [
            "Requirement already satisfied: pydotplus in /usr/local/lib/python2.7/dist-packages (2.0.2)\n",
            "Requirement already satisfied: pyparsing>=2.0.1 in /usr/local/lib/python2.7/dist-packages (from pydotplus) (2.3.0)\n"
          ],
          "name": "stdout"
        }
      ]
    },
    {
      "metadata": {
        "id": "O_pHSdmKFG0V",
        "colab_type": "text"
      },
      "cell_type": "markdown",
      "source": [
        "## NOTE: we have used : labels=churn_feat_space.columns.tolist()\n",
        "\n",
        "        To see the label names in the tree"
      ]
    },
    {
      "metadata": {
        "colab_type": "code",
        "outputId": "90451226-c316-45ca-b0c6-e270a5a1274d",
        "id": "qnkLrvPwAb_f",
        "colab": {
          "base_uri": "https://localhost:8080/",
          "height": 618
        }
      },
      "cell_type": "code",
      "source": [
        "from sklearn.externals.six import StringIO\n",
        "from graphviz import Source\n",
        "from sklearn.tree import export_graphviz\n",
        "import pydotplus\n",
        "from sklearn import tree\n",
        "from IPython.display import SVG\n",
        "\n",
        "dot_data = StringIO()\n",
        "\n",
        "labels=churn_feat_space.columns.tolist()\n",
        "\n",
        "\n",
        "graph = Source(tree.export_graphviz(tree_model, out_file=None\n",
        "   , feature_names=labels\n",
        "   , class_names=['Churn', 'No_Churn'] \n",
        "   , filled = True))\n",
        "\n",
        "display(SVG(graph.pipe(format='svg')))\n"
      ],
      "execution_count": 57,
      "outputs": [
        {
          "output_type": "display_data",
          "data": {
            "text/plain": [
              "<IPython.core.display.SVG object>"
            ],
            "image/svg+xml": "<svg height=\"433pt\" viewBox=\"0.00 0.00 1070.50 433.00\" width=\"1071pt\" xmlns=\"http://www.w3.org/2000/svg\" xmlns:xlink=\"http://www.w3.org/1999/xlink\">\n<g class=\"graph\" id=\"graph0\" transform=\"scale(1 1) rotate(0) translate(4 429)\">\n<title>Tree</title>\n<polygon fill=\"#ffffff\" points=\"-4,4 -4,-429 1066.5,-429 1066.5,4 -4,4\" stroke=\"transparent\"/>\n<!-- 0 -->\n<g class=\"node\" id=\"node1\">\n<title>0</title>\n<polygon fill=\"#e58139\" fill-opacity=\"0.831373\" points=\"664.5,-425 487.5,-425 487.5,-342 664.5,-342 664.5,-425\" stroke=\"#000000\"/>\n<text fill=\"#000000\" font-family=\"Times,serif\" font-size=\"14.00\" text-anchor=\"middle\" x=\"576\" y=\"-409.8\">Total day minutes &lt;= 264.4</text>\n<text fill=\"#000000\" font-family=\"Times,serif\" font-size=\"14.00\" text-anchor=\"middle\" x=\"576\" y=\"-394.8\">gini = 0.249</text>\n<text fill=\"#000000\" font-family=\"Times,serif\" font-size=\"14.00\" text-anchor=\"middle\" x=\"576\" y=\"-379.8\">samples = 2666</text>\n<text fill=\"#000000\" font-family=\"Times,serif\" font-size=\"14.00\" text-anchor=\"middle\" x=\"576\" y=\"-364.8\">value = [2278, 388]</text>\n<text fill=\"#000000\" font-family=\"Times,serif\" font-size=\"14.00\" text-anchor=\"middle\" x=\"576\" y=\"-349.8\">class = Churn</text>\n</g>\n<!-- 1 -->\n<g class=\"node\" id=\"node2\">\n<title>1</title>\n<polygon fill=\"#e58139\" fill-opacity=\"0.866667\" points=\"528,-306 342,-306 342,-223 528,-223 528,-306\" stroke=\"#000000\"/>\n<text fill=\"#000000\" font-family=\"Times,serif\" font-size=\"14.00\" text-anchor=\"middle\" x=\"435\" y=\"-290.8\">Customer service calls &lt;= 3.5</text>\n<text fill=\"#000000\" font-family=\"Times,serif\" font-size=\"14.00\" text-anchor=\"middle\" x=\"435\" y=\"-275.8\">gini = 0.206</text>\n<text fill=\"#000000\" font-family=\"Times,serif\" font-size=\"14.00\" text-anchor=\"middle\" x=\"435\" y=\"-260.8\">samples = 2506</text>\n<text fill=\"#000000\" font-family=\"Times,serif\" font-size=\"14.00\" text-anchor=\"middle\" x=\"435\" y=\"-245.8\">value = [2213, 293]</text>\n<text fill=\"#000000\" font-family=\"Times,serif\" font-size=\"14.00\" text-anchor=\"middle\" x=\"435\" y=\"-230.8\">class = Churn</text>\n</g>\n<!-- 0&#45;&gt;1 -->\n<g class=\"edge\" id=\"edge1\">\n<title>0-&gt;1</title>\n<path d=\"M526.685,-341.8796C515.5868,-332.513 503.7165,-322.4948 492.3223,-312.8784\" fill=\"none\" stroke=\"#000000\"/>\n<polygon fill=\"#000000\" points=\"494.425,-310.0731 484.5254,-306.2981 489.9101,-315.4225 494.425,-310.0731\" stroke=\"#000000\"/>\n<text fill=\"#000000\" font-family=\"Times,serif\" font-size=\"14.00\" text-anchor=\"middle\" x=\"486.6333\" y=\"-327.5091\">True</text>\n</g>\n<!-- 8 -->\n<g class=\"node\" id=\"node9\">\n<title>8</title>\n<polygon fill=\"#399de5\" fill-opacity=\"0.317647\" points=\"763.5,-306 564.5,-306 564.5,-223 763.5,-223 763.5,-306\" stroke=\"#000000\"/>\n<text fill=\"#000000\" font-family=\"Times,serif\" font-size=\"14.00\" text-anchor=\"middle\" x=\"664\" y=\"-290.8\">Number vmail messages &lt;= 6.5</text>\n<text fill=\"#000000\" font-family=\"Times,serif\" font-size=\"14.00\" text-anchor=\"middle\" x=\"664\" y=\"-275.8\">gini = 0.482</text>\n<text fill=\"#000000\" font-family=\"Times,serif\" font-size=\"14.00\" text-anchor=\"middle\" x=\"664\" y=\"-260.8\">samples = 160</text>\n<text fill=\"#000000\" font-family=\"Times,serif\" font-size=\"14.00\" text-anchor=\"middle\" x=\"664\" y=\"-245.8\">value = [65, 95]</text>\n<text fill=\"#000000\" font-family=\"Times,serif\" font-size=\"14.00\" text-anchor=\"middle\" x=\"664\" y=\"-230.8\">class = No_Churn</text>\n</g>\n<!-- 0&#45;&gt;8 -->\n<g class=\"edge\" id=\"edge8\">\n<title>0-&gt;8</title>\n<path d=\"M606.7781,-341.8796C613.3051,-333.0534 620.2599,-323.6485 626.9908,-314.5466\" fill=\"none\" stroke=\"#000000\"/>\n<polygon fill=\"#000000\" points=\"629.9588,-316.4195 633.0905,-306.2981 624.3305,-312.2574 629.9588,-316.4195\" stroke=\"#000000\"/>\n<text fill=\"#000000\" font-family=\"Times,serif\" font-size=\"14.00\" text-anchor=\"middle\" x=\"636.7932\" y=\"-327.3224\">False</text>\n</g>\n<!-- 2 -->\n<g class=\"node\" id=\"node3\">\n<title>2</title>\n<polygon fill=\"#e58139\" fill-opacity=\"0.909804\" points=\"289,-187 129,-187 129,-104 289,-104 289,-187\" stroke=\"#000000\"/>\n<text fill=\"#000000\" font-family=\"Times,serif\" font-size=\"14.00\" text-anchor=\"middle\" x=\"209\" y=\"-171.8\">International plan &lt;= 0.5</text>\n<text fill=\"#000000\" font-family=\"Times,serif\" font-size=\"14.00\" text-anchor=\"middle\" x=\"209\" y=\"-156.8\">gini = 0.151</text>\n<text fill=\"#000000\" font-family=\"Times,serif\" font-size=\"14.00\" text-anchor=\"middle\" x=\"209\" y=\"-141.8\">samples = 2305</text>\n<text fill=\"#000000\" font-family=\"Times,serif\" font-size=\"14.00\" text-anchor=\"middle\" x=\"209\" y=\"-126.8\">value = [2116, 189]</text>\n<text fill=\"#000000\" font-family=\"Times,serif\" font-size=\"14.00\" text-anchor=\"middle\" x=\"209\" y=\"-111.8\">class = Churn</text>\n</g>\n<!-- 1&#45;&gt;2 -->\n<g class=\"edge\" id=\"edge2\">\n<title>1-&gt;2</title>\n<path d=\"M355.9562,-222.8796C336.8599,-212.8244 316.3373,-202.0183 296.8638,-191.7645\" fill=\"none\" stroke=\"#000000\"/>\n<polygon fill=\"#000000\" points=\"298.4782,-188.6591 287.9992,-187.0969 295.2169,-194.853 298.4782,-188.6591\" stroke=\"#000000\"/>\n</g>\n<!-- 5 -->\n<g class=\"node\" id=\"node6\">\n<title>5</title>\n<polygon fill=\"#399de5\" fill-opacity=\"0.066667\" points=\"527.5,-187 342.5,-187 342.5,-104 527.5,-104 527.5,-187\" stroke=\"#000000\"/>\n<text fill=\"#000000\" font-family=\"Times,serif\" font-size=\"14.00\" text-anchor=\"middle\" x=\"435\" y=\"-171.8\">Total day minutes &lt;= 173.55</text>\n<text fill=\"#000000\" font-family=\"Times,serif\" font-size=\"14.00\" text-anchor=\"middle\" x=\"435\" y=\"-156.8\">gini = 0.499</text>\n<text fill=\"#000000\" font-family=\"Times,serif\" font-size=\"14.00\" text-anchor=\"middle\" x=\"435\" y=\"-141.8\">samples = 201</text>\n<text fill=\"#000000\" font-family=\"Times,serif\" font-size=\"14.00\" text-anchor=\"middle\" x=\"435\" y=\"-126.8\">value = [97, 104]</text>\n<text fill=\"#000000\" font-family=\"Times,serif\" font-size=\"14.00\" text-anchor=\"middle\" x=\"435\" y=\"-111.8\">class = No_Churn</text>\n</g>\n<!-- 1&#45;&gt;5 -->\n<g class=\"edge\" id=\"edge5\">\n<title>1-&gt;5</title>\n<path d=\"M435,-222.8796C435,-214.6838 435,-205.9891 435,-197.5013\" fill=\"none\" stroke=\"#000000\"/>\n<polygon fill=\"#000000\" points=\"438.5001,-197.298 435,-187.2981 431.5001,-197.2981 438.5001,-197.298\" stroke=\"#000000\"/>\n</g>\n<!-- 3 -->\n<g class=\"node\" id=\"node4\">\n<title>3</title>\n<polygon fill=\"#e58139\" fill-opacity=\"0.949020\" points=\"132,-68 0,-68 0,0 132,0 132,-68\" stroke=\"#000000\"/>\n<text fill=\"#000000\" font-family=\"Times,serif\" font-size=\"14.00\" text-anchor=\"middle\" x=\"66\" y=\"-52.8\">gini = 0.092</text>\n<text fill=\"#000000\" font-family=\"Times,serif\" font-size=\"14.00\" text-anchor=\"middle\" x=\"66\" y=\"-37.8\">samples = 2081</text>\n<text fill=\"#000000\" font-family=\"Times,serif\" font-size=\"14.00\" text-anchor=\"middle\" x=\"66\" y=\"-22.8\">value = [1980, 101]</text>\n<text fill=\"#000000\" font-family=\"Times,serif\" font-size=\"14.00\" text-anchor=\"middle\" x=\"66\" y=\"-7.8\">class = Churn</text>\n</g>\n<!-- 2&#45;&gt;3 -->\n<g class=\"edge\" id=\"edge3\">\n<title>2-&gt;3</title>\n<path d=\"M155.7521,-103.9815C143.3756,-94.3313 130.2172,-84.0714 117.8997,-74.4673\" fill=\"none\" stroke=\"#000000\"/>\n<polygon fill=\"#000000\" points=\"119.9818,-71.6525 109.9435,-68.2637 115.6775,-77.1728 119.9818,-71.6525\" stroke=\"#000000\"/>\n</g>\n<!-- 4 -->\n<g class=\"node\" id=\"node5\">\n<title>4</title>\n<polygon fill=\"#e58139\" fill-opacity=\"0.352941\" points=\"267.5,-68 150.5,-68 150.5,0 267.5,0 267.5,-68\" stroke=\"#000000\"/>\n<text fill=\"#000000\" font-family=\"Times,serif\" font-size=\"14.00\" text-anchor=\"middle\" x=\"209\" y=\"-52.8\">gini = 0.477</text>\n<text fill=\"#000000\" font-family=\"Times,serif\" font-size=\"14.00\" text-anchor=\"middle\" x=\"209\" y=\"-37.8\">samples = 224</text>\n<text fill=\"#000000\" font-family=\"Times,serif\" font-size=\"14.00\" text-anchor=\"middle\" x=\"209\" y=\"-22.8\">value = [136, 88]</text>\n<text fill=\"#000000\" font-family=\"Times,serif\" font-size=\"14.00\" text-anchor=\"middle\" x=\"209\" y=\"-7.8\">class = Churn</text>\n</g>\n<!-- 2&#45;&gt;4 -->\n<g class=\"edge\" id=\"edge4\">\n<title>2-&gt;4</title>\n<path d=\"M209,-103.9815C209,-95.618 209,-86.7965 209,-78.3409\" fill=\"none\" stroke=\"#000000\"/>\n<polygon fill=\"#000000\" points=\"212.5001,-78.2636 209,-68.2637 205.5001,-78.2637 212.5001,-78.2636\" stroke=\"#000000\"/>\n</g>\n<!-- 6 -->\n<g class=\"node\" id=\"node7\">\n<title>6</title>\n<polygon fill=\"#399de5\" fill-opacity=\"0.733333\" points=\"406.5,-68 285.5,-68 285.5,0 406.5,0 406.5,-68\" stroke=\"#000000\"/>\n<text fill=\"#000000\" font-family=\"Times,serif\" font-size=\"14.00\" text-anchor=\"middle\" x=\"346\" y=\"-52.8\">gini = 0.331</text>\n<text fill=\"#000000\" font-family=\"Times,serif\" font-size=\"14.00\" text-anchor=\"middle\" x=\"346\" y=\"-37.8\">samples = 105</text>\n<text fill=\"#000000\" font-family=\"Times,serif\" font-size=\"14.00\" text-anchor=\"middle\" x=\"346\" y=\"-22.8\">value = [22, 83]</text>\n<text fill=\"#000000\" font-family=\"Times,serif\" font-size=\"14.00\" text-anchor=\"middle\" x=\"346\" y=\"-7.8\">class = No_Churn</text>\n</g>\n<!-- 5&#45;&gt;6 -->\n<g class=\"edge\" id=\"edge6\">\n<title>5-&gt;6</title>\n<path d=\"M401.8597,-103.9815C394.597,-94.8828 386.9017,-85.242 379.6204,-76.1199\" fill=\"none\" stroke=\"#000000\"/>\n<polygon fill=\"#000000\" points=\"382.3234,-73.8958 373.3495,-68.2637 376.8525,-78.2627 382.3234,-73.8958\" stroke=\"#000000\"/>\n</g>\n<!-- 7 -->\n<g class=\"node\" id=\"node8\">\n<title>7</title>\n<polygon fill=\"#e58139\" fill-opacity=\"0.721569\" points=\"535,-68 425,-68 425,0 535,0 535,-68\" stroke=\"#000000\"/>\n<text fill=\"#000000\" font-family=\"Times,serif\" font-size=\"14.00\" text-anchor=\"middle\" x=\"480\" y=\"-52.8\">gini = 0.342</text>\n<text fill=\"#000000\" font-family=\"Times,serif\" font-size=\"14.00\" text-anchor=\"middle\" x=\"480\" y=\"-37.8\">samples = 96</text>\n<text fill=\"#000000\" font-family=\"Times,serif\" font-size=\"14.00\" text-anchor=\"middle\" x=\"480\" y=\"-22.8\">value = [75, 21]</text>\n<text fill=\"#000000\" font-family=\"Times,serif\" font-size=\"14.00\" text-anchor=\"middle\" x=\"480\" y=\"-7.8\">class = Churn</text>\n</g>\n<!-- 5&#45;&gt;7 -->\n<g class=\"edge\" id=\"edge7\">\n<title>5-&gt;7</title>\n<path d=\"M451.7563,-103.9815C455.2059,-95.4342 458.8486,-86.4086 462.3294,-77.7839\" fill=\"none\" stroke=\"#000000\"/>\n<polygon fill=\"#000000\" points=\"465.6746,-78.8469 466.1716,-68.2637 459.1833,-76.227 465.6746,-78.8469\" stroke=\"#000000\"/>\n</g>\n<!-- 9 -->\n<g class=\"node\" id=\"node10\">\n<title>9</title>\n<polygon fill=\"#399de5\" fill-opacity=\"0.650980\" points=\"755.5,-187 572.5,-187 572.5,-104 755.5,-104 755.5,-187\" stroke=\"#000000\"/>\n<text fill=\"#000000\" font-family=\"Times,serif\" font-size=\"14.00\" text-anchor=\"middle\" x=\"664\" y=\"-171.8\">Total eve minutes &lt;= 187.75</text>\n<text fill=\"#000000\" font-family=\"Times,serif\" font-size=\"14.00\" text-anchor=\"middle\" x=\"664\" y=\"-156.8\">gini = 0.383</text>\n<text fill=\"#000000\" font-family=\"Times,serif\" font-size=\"14.00\" text-anchor=\"middle\" x=\"664\" y=\"-141.8\">samples = 120</text>\n<text fill=\"#000000\" font-family=\"Times,serif\" font-size=\"14.00\" text-anchor=\"middle\" x=\"664\" y=\"-126.8\">value = [31, 89]</text>\n<text fill=\"#000000\" font-family=\"Times,serif\" font-size=\"14.00\" text-anchor=\"middle\" x=\"664\" y=\"-111.8\">class = No_Churn</text>\n</g>\n<!-- 8&#45;&gt;9 -->\n<g class=\"edge\" id=\"edge9\">\n<title>8-&gt;9</title>\n<path d=\"M664,-222.8796C664,-214.6838 664,-205.9891 664,-197.5013\" fill=\"none\" stroke=\"#000000\"/>\n<polygon fill=\"#000000\" points=\"667.5001,-197.298 664,-187.2981 660.5001,-197.2981 667.5001,-197.298\" stroke=\"#000000\"/>\n</g>\n<!-- 12 -->\n<g class=\"node\" id=\"node13\">\n<title>12</title>\n<polygon fill=\"#e58139\" fill-opacity=\"0.823529\" points=\"952,-187 792,-187 792,-104 952,-104 952,-187\" stroke=\"#000000\"/>\n<text fill=\"#000000\" font-family=\"Times,serif\" font-size=\"14.00\" text-anchor=\"middle\" x=\"872\" y=\"-171.8\">International plan &lt;= 0.5</text>\n<text fill=\"#000000\" font-family=\"Times,serif\" font-size=\"14.00\" text-anchor=\"middle\" x=\"872\" y=\"-156.8\">gini = 0.255</text>\n<text fill=\"#000000\" font-family=\"Times,serif\" font-size=\"14.00\" text-anchor=\"middle\" x=\"872\" y=\"-141.8\">samples = 40</text>\n<text fill=\"#000000\" font-family=\"Times,serif\" font-size=\"14.00\" text-anchor=\"middle\" x=\"872\" y=\"-126.8\">value = [34, 6]</text>\n<text fill=\"#000000\" font-family=\"Times,serif\" font-size=\"14.00\" text-anchor=\"middle\" x=\"872\" y=\"-111.8\">class = Churn</text>\n</g>\n<!-- 8&#45;&gt;12 -->\n<g class=\"edge\" id=\"edge12\">\n<title>8-&gt;12</title>\n<path d=\"M736.7483,-222.8796C754.007,-213.0056 772.5315,-202.4075 790.1645,-192.3193\" fill=\"none\" stroke=\"#000000\"/>\n<polygon fill=\"#000000\" points=\"792.351,-195.1008 799.2928,-187.0969 788.8748,-189.0249 792.351,-195.1008\" stroke=\"#000000\"/>\n</g>\n<!-- 10 -->\n<g class=\"node\" id=\"node11\">\n<title>10</title>\n<polygon fill=\"#e58139\" fill-opacity=\"0.223529\" points=\"663,-68 553,-68 553,0 663,0 663,-68\" stroke=\"#000000\"/>\n<text fill=\"#000000\" font-family=\"Times,serif\" font-size=\"14.00\" text-anchor=\"middle\" x=\"608\" y=\"-52.8\">gini = 0.492</text>\n<text fill=\"#000000\" font-family=\"Times,serif\" font-size=\"14.00\" text-anchor=\"middle\" x=\"608\" y=\"-37.8\">samples = 48</text>\n<text fill=\"#000000\" font-family=\"Times,serif\" font-size=\"14.00\" text-anchor=\"middle\" x=\"608\" y=\"-22.8\">value = [27, 21]</text>\n<text fill=\"#000000\" font-family=\"Times,serif\" font-size=\"14.00\" text-anchor=\"middle\" x=\"608\" y=\"-7.8\">class = Churn</text>\n</g>\n<!-- 9&#45;&gt;10 -->\n<g class=\"edge\" id=\"edge10\">\n<title>9-&gt;10</title>\n<path d=\"M643.1477,-103.9815C638.7625,-95.2504 634.1267,-86.0202 629.711,-77.2281\" fill=\"none\" stroke=\"#000000\"/>\n<polygon fill=\"#000000\" points=\"632.8246,-75.6291 625.2087,-68.2637 626.5692,-78.7708 632.8246,-75.6291\" stroke=\"#000000\"/>\n</g>\n<!-- 11 -->\n<g class=\"node\" id=\"node12\">\n<title>11</title>\n<polygon fill=\"#399de5\" fill-opacity=\"0.941176\" points=\"802.5,-68 681.5,-68 681.5,0 802.5,0 802.5,-68\" stroke=\"#000000\"/>\n<text fill=\"#000000\" font-family=\"Times,serif\" font-size=\"14.00\" text-anchor=\"middle\" x=\"742\" y=\"-52.8\">gini = 0.105</text>\n<text fill=\"#000000\" font-family=\"Times,serif\" font-size=\"14.00\" text-anchor=\"middle\" x=\"742\" y=\"-37.8\">samples = 72</text>\n<text fill=\"#000000\" font-family=\"Times,serif\" font-size=\"14.00\" text-anchor=\"middle\" x=\"742\" y=\"-22.8\">value = [4, 68]</text>\n<text fill=\"#000000\" font-family=\"Times,serif\" font-size=\"14.00\" text-anchor=\"middle\" x=\"742\" y=\"-7.8\">class = No_Churn</text>\n</g>\n<!-- 9&#45;&gt;11 -->\n<g class=\"edge\" id=\"edge11\">\n<title>9-&gt;11</title>\n<path d=\"M693.0443,-103.9815C699.2808,-95.0666 705.8813,-85.6313 712.1478,-76.6734\" fill=\"none\" stroke=\"#000000\"/>\n<polygon fill=\"#000000\" points=\"715.1665,-78.464 718.0308,-68.2637 709.4307,-74.4515 715.1665,-78.464\" stroke=\"#000000\"/>\n</g>\n<!-- 13 -->\n<g class=\"node\" id=\"node14\">\n<title>13</title>\n<polygon fill=\"#e58139\" fill-opacity=\"0.968627\" points=\"923,-68 821,-68 821,0 923,0 923,-68\" stroke=\"#000000\"/>\n<text fill=\"#000000\" font-family=\"Times,serif\" font-size=\"14.00\" text-anchor=\"middle\" x=\"872\" y=\"-52.8\">gini = 0.059</text>\n<text fill=\"#000000\" font-family=\"Times,serif\" font-size=\"14.00\" text-anchor=\"middle\" x=\"872\" y=\"-37.8\">samples = 33</text>\n<text fill=\"#000000\" font-family=\"Times,serif\" font-size=\"14.00\" text-anchor=\"middle\" x=\"872\" y=\"-22.8\">value = [32, 1]</text>\n<text fill=\"#000000\" font-family=\"Times,serif\" font-size=\"14.00\" text-anchor=\"middle\" x=\"872\" y=\"-7.8\">class = Churn</text>\n</g>\n<!-- 12&#45;&gt;13 -->\n<g class=\"edge\" id=\"edge13\">\n<title>12-&gt;13</title>\n<path d=\"M872,-103.9815C872,-95.618 872,-86.7965 872,-78.3409\" fill=\"none\" stroke=\"#000000\"/>\n<polygon fill=\"#000000\" points=\"875.5001,-78.2636 872,-68.2637 868.5001,-78.2637 875.5001,-78.2636\" stroke=\"#000000\"/>\n</g>\n<!-- 14 -->\n<g class=\"node\" id=\"node15\">\n<title>14</title>\n<polygon fill=\"#399de5\" fill-opacity=\"0.600000\" points=\"1062.5,-68 941.5,-68 941.5,0 1062.5,0 1062.5,-68\" stroke=\"#000000\"/>\n<text fill=\"#000000\" font-family=\"Times,serif\" font-size=\"14.00\" text-anchor=\"middle\" x=\"1002\" y=\"-52.8\">gini = 0.408</text>\n<text fill=\"#000000\" font-family=\"Times,serif\" font-size=\"14.00\" text-anchor=\"middle\" x=\"1002\" y=\"-37.8\">samples = 7</text>\n<text fill=\"#000000\" font-family=\"Times,serif\" font-size=\"14.00\" text-anchor=\"middle\" x=\"1002\" y=\"-22.8\">value = [2, 5]</text>\n<text fill=\"#000000\" font-family=\"Times,serif\" font-size=\"14.00\" text-anchor=\"middle\" x=\"1002\" y=\"-7.8\">class = No_Churn</text>\n</g>\n<!-- 12&#45;&gt;14 -->\n<g class=\"edge\" id=\"edge14\">\n<title>12-&gt;14</title>\n<path d=\"M920.4072,-103.9815C931.4442,-94.5151 943.1653,-84.462 954.1777,-75.0168\" fill=\"none\" stroke=\"#000000\"/>\n<polygon fill=\"#000000\" points=\"956.7394,-77.4307 962.0513,-68.2637 952.1822,-72.1173 956.7394,-77.4307\" stroke=\"#000000\"/>\n</g>\n</g>\n</svg>"
          },
          "metadata": {
            "tags": []
          }
        }
      ]
    },
    {
      "metadata": {
        "colab_type": "code",
        "outputId": "378cdf31-3c0d-48a0-e627-c5548d6db053",
        "id": "ihVT41ypAb_4",
        "colab": {
          "base_uri": "https://localhost:8080/",
          "height": 317
        }
      },
      "cell_type": "code",
      "source": [
        "# NOTE : Scaling\n",
        "\n",
        "churn_feat_space.hist('Total day minutes')\n"
      ],
      "execution_count": 58,
      "outputs": [
        {
          "output_type": "execute_result",
          "data": {
            "text/plain": [
              "array([[<matplotlib.axes._subplots.AxesSubplot object at 0x7f5e0252eb90>]],\n",
              "      dtype=object)"
            ]
          },
          "metadata": {
            "tags": []
          },
          "execution_count": 58
        },
        {
          "output_type": "display_data",
          "data": {
            "image/png": "[encoded data removed]",
            "text/plain": [
              "<matplotlib.figure.Figure at 0x7f5e026671d0>"
            ]
          },
          "metadata": {
            "tags": []
          }
        }
      ]
    },
    {
      "metadata": {
        "id": "YUmJpySoFUP9",
        "colab_type": "text"
      },
      "cell_type": "markdown",
      "source": [
        "- ## Adding the ROC for the tree"
      ]
    },
    {
      "metadata": {
        "colab_type": "code",
        "outputId": "dcf24f1b-02be-4df9-a17e-d31998d829cd",
        "id": "CLOLPz5vAcAG",
        "colab": {
          "base_uri": "https://localhost:8080/",
          "height": 294
        }
      },
      "cell_type": "code",
      "source": [
        "\n",
        "y_pred_tree = tree_model.predict(X)\n",
        "probs_tree = tree_model.predict_proba(X)\n",
        "\n",
        "preds_tree = probs_tree[:,1]\n",
        "fpr_tree, tpr_tree, threshold_tree = metrics.roc_curve(y, preds_tree)\n",
        "roc_auc_tree = metrics.auc(fpr_tree, tpr_tree)\n",
        "\n",
        "plt.title('Receiver Operating Characteristic')\n",
        "plt.plot(fpr, tpr, 'b', label = 'AUC LR = %0.2f' % roc_auc)\n",
        "plt.plot(fpr_qda, tpr_qda, 'g', label = 'AUC QDA = %0.2f' % roc_auc_qda)\n",
        "plt.plot(fpr_tree, tpr_tree, 'm', label = 'AUC TREE = %0.2f' % roc_auc_tree)\n",
        "plt.legend(loc = 'lower right')\n",
        "plt.plot([0, 1], [0, 1],'r--')\n",
        "plt.xlim([0, 1])\n",
        "plt.ylim([0, 1])\n",
        "plt.ylabel('True Positive Rate')\n",
        "plt.xlabel('False Positive Rate')\n",
        "plt.show()\n"
      ],
      "execution_count": 59,
      "outputs": [
        {
          "output_type": "display_data",
          "data": {
            "image/png": "[encoded data removed]",
            "text/plain": [
              "<matplotlib.figure.Figure at 0x7f5e01e32ed0>"
            ]
          },
          "metadata": {
            "tags": []
          }
        }
      ]
    },
    {
      "metadata": {
        "colab_type": "text",
        "id": "2hkM2pVKAcAR"
      },
      "cell_type": "markdown",
      "source": [
        "---\n",
        "# <font color=FF103>TO DO: ... try Gradient Boosting  </font>"
      ]
    },
    {
      "metadata": {
        "colab_type": "code",
        "outputId": "1cce7db5-693a-462c-e63f-8c3496cb2c47",
        "id": "KfRxkYoeAcAV",
        "colab": {
          "base_uri": "https://localhost:8080/",
          "height": 182
        }
      },
      "cell_type": "code",
      "source": [
        "from sklearn.ensemble import GradientBoostingClassifier\n",
        "from sklearn.metrics import classification_report\n",
        "\n",
        "# boosting: many many weak classifiers (max_depth=1) refine themselves sequentially\n",
        "# tree is the default the base classifier\n",
        "estimator = GradientBoostingClassifier(n_estimators=200, learning_rate=0.1, max_depth=1, random_state=0)\n",
        "estimator.fit(X, y)\n",
        "y_pred = estimator.predict(X)\n",
        "print(classification_report(y, y_pred))"
      ],
      "execution_count": 60,
      "outputs": [
        {
          "output_type": "stream",
          "text": [
            "              precision    recall  f1-score   support\n",
            "\n",
            "           0       0.90      0.98      0.93      2278\n",
            "           1       0.71      0.34      0.46       388\n",
            "\n",
            "   micro avg       0.88      0.88      0.88      2666\n",
            "   macro avg       0.81      0.66      0.70      2666\n",
            "weighted avg       0.87      0.88      0.87      2666\n",
            "\n"
          ],
          "name": "stdout"
        }
      ]
    },
    {
      "metadata": {
        "colab_type": "text",
        "id": "h-e8PmjSAcAg"
      },
      "cell_type": "markdown",
      "source": [
        "---\n",
        "# <font color=FF103>TO DO: ... try Random Forest  </font>"
      ]
    },
    {
      "metadata": {
        "colab_type": "code",
        "id": "1Ff03JN4AcAi",
        "colab": {}
      },
      "cell_type": "code",
      "source": [
        "from sklearn.ensemble import RandomForestClassifier"
      ],
      "execution_count": 0,
      "outputs": []
    },
    {
      "metadata": {
        "colab_type": "code",
        "outputId": "b8c43a52-5b98-4537-ad36-eba3c13a4294",
        "id": "2h1d09o-AcAn",
        "colab": {
          "base_uri": "https://localhost:8080/",
          "height": 239
        }
      },
      "cell_type": "code",
      "source": [
        "RF_model = RandomForestClassifier(max_depth=10,min_samples_split=20).fit(X, y)\n",
        "RF_model.fit(X, y)\n",
        "y_pred_RF = RF_model.predict(X)\n",
        "print(classification_report(y, y_pred_RF))"
      ],
      "execution_count": 62,
      "outputs": [
        {
          "output_type": "stream",
          "text": [
            "              precision    recall  f1-score   support\n",
            "\n",
            "           0       0.96      1.00      0.98      2278\n",
            "           1       0.98      0.75      0.85       388\n",
            "\n",
            "   micro avg       0.96      0.96      0.96      2666\n",
            "   macro avg       0.97      0.87      0.91      2666\n",
            "weighted avg       0.96      0.96      0.96      2666\n",
            "\n"
          ],
          "name": "stdout"
        },
        {
          "output_type": "stream",
          "text": [
            "/usr/local/lib/python2.7/dist-packages/sklearn/ensemble/forest.py:246: FutureWarning: The default value of n_estimators will change from 10 in version 0.20 to 100 in 0.22.\n",
            "  \"10 in version 0.20 to 100 in 0.22.\", FutureWarning)\n"
          ],
          "name": "stderr"
        }
      ]
    },
    {
      "metadata": {
        "colab_type": "code",
        "outputId": "bee41539-a6bf-4947-c3ad-a56ce526828f",
        "id": "XqruE4tCAcAy",
        "colab": {
          "base_uri": "https://localhost:8080/",
          "height": 146
        }
      },
      "cell_type": "code",
      "source": [
        "RF_model"
      ],
      "execution_count": 63,
      "outputs": [
        {
          "output_type": "execute_result",
          "data": {
            "text/plain": [
              "RandomForestClassifier(bootstrap=True, class_weight=None, criterion='gini',\n",
              "            max_depth=10, max_features='auto', max_leaf_nodes=None,\n",
              "            min_impurity_decrease=0.0, min_impurity_split=None,\n",
              "            min_samples_leaf=1, min_samples_split=20,\n",
              "            min_weight_fraction_leaf=0.0, n_estimators=10, n_jobs=None,\n",
              "            oob_score=False, random_state=None, verbose=0,\n",
              "            warm_start=False)"
            ]
          },
          "metadata": {
            "tags": []
          },
          "execution_count": 63
        }
      ]
    },
    {
      "metadata": {
        "id": "67TDgHtdFlrn",
        "colab_type": "text"
      },
      "cell_type": "markdown",
      "source": [
        "# <font color=FF103>TO DO: ... review how you can with Random Forest study <font color=green>Feature importances  </font>"
      ]
    },
    {
      "metadata": {
        "colab_type": "code",
        "outputId": "6ac06a4d-15a9-4e7f-b483-875ab9f101ee",
        "id": "HyUGfI1hAcBP",
        "colab": {
          "base_uri": "https://localhost:8080/",
          "height": 926
        }
      },
      "cell_type": "code",
      "source": [
        "labels=churn_feat_space.columns.tolist()\n",
        "\n",
        "\n",
        "importances = RF_model.feature_importances_\n",
        "std = np.std([tree.feature_importances_ for tree in RF_model.estimators_],\n",
        "             axis=0)\n",
        "indices = np.argsort(importances)[::-1]\n",
        "\n",
        "# Print the feature ranking\n",
        "print(\"Feature ranking:\")\n",
        "\n",
        "for f in range(X.shape[1]):\n",
        "    print(\"%d. feature %s (%f)\" % (f + 1, labels[indices[f]], importances[indices[f]]))\n",
        "\n",
        "# Plot the feature importances of the forest\n",
        "plt.figure(figsize=(14,8))\n",
        "plt.title(\"Feature importances\", fontsize=20)\n",
        "plt.bar(range(X.shape[1]), importances[indices],\n",
        "       color=\"r\", yerr=std[indices], align=\"center\")\n",
        "plt.xticks(range(X.shape[1]), [labels[k] for k in indices],rotation='vertical')\n",
        "ax = plt.gca()\n",
        "ax.tick_params(axis = 'both', which = 'major', labelsize = 16)\n",
        "\n",
        "plt.xlim([-1, X.shape[1]])\n",
        "plt.show()"
      ],
      "execution_count": 64,
      "outputs": [
        {
          "output_type": "stream",
          "text": [
            "Feature ranking:\n",
            "1. feature Total day minutes (0.270241)\n",
            "2. feature Customer service calls (0.175458)\n",
            "3. feature International plan (0.112739)\n",
            "4. feature Total eve minutes (0.081887)\n",
            "5. feature Total intl calls (0.080874)\n",
            "6. feature Total intl minutes (0.074541)\n",
            "7. feature Total day calls (0.037466)\n",
            "8. feature Account length (0.037264)\n",
            "9. feature Total night minutes (0.034118)\n",
            "10. feature Voice mail plan (0.030146)\n",
            "11. feature Total eve calls (0.025958)\n",
            "12. feature Number vmail messages (0.021293)\n",
            "13. feature Total night calls (0.018016)\n"
          ],
          "name": "stdout"
        },
        {
          "output_type": "display_data",
          "data": {
            "image/png": "[encoded data removed]",
            "text/plain": [
              "<matplotlib.figure.Figure at 0x7f5e01e05910>"
            ]
          },
          "metadata": {
            "tags": []
          }
        }
      ]
    },
    {
      "metadata": {
        "colab_type": "text",
        "id": "Ep6oODTIAcBX"
      },
      "cell_type": "markdown",
      "source": [
        "---\n",
        "# <font color=FF103>TO DO: ... try GridSearch for Random Forest  </font>"
      ]
    },
    {
      "metadata": {
        "colab_type": "code",
        "id": "rlkFK61_AcBa",
        "colab": {}
      },
      "cell_type": "code",
      "source": [
        "# Utility function to report best scores\n",
        "def report(results, n_top=3):\n",
        "    for i in range(1, n_top + 1):\n",
        "        candidates = np.flatnonzero(results['rank_test_score'] == i)\n",
        "        for candidate in candidates:\n",
        "            print(\"Model with rank: {0}\".format(i))\n",
        "            print(\"Mean validation score: {0:.3f} (std: {1:.3f})\".format(\n",
        "                  results['mean_test_score'][candidate],\n",
        "                  results['std_test_score'][candidate]))\n",
        "            print(\"Parameters: {0}\".format(results['params'][candidate]))\n",
        "            print(\"\")"
      ],
      "execution_count": 0,
      "outputs": []
    },
    {
      "metadata": {
        "colab_type": "code",
        "outputId": "901d7e55-a51b-421f-c9ae-e09b4ab1bd2c",
        "id": "XMcjL9k6AcBk",
        "colab": {
          "base_uri": "https://localhost:8080/",
          "height": 329
        }
      },
      "cell_type": "code",
      "source": [
        "from sklearn.ensemble import RandomForestClassifier\n",
        "\n",
        "from time import time\n",
        "\n",
        "RF_grid = RandomForestClassifier(n_estimators=20)\n",
        "\n",
        "# use a full grid over all parameters\n",
        "param_grid = {\"max_depth\": [3, None],\n",
        "              \"max_features\": [1, 3, 10],\n",
        "              \"min_samples_split\": [2, 3, 10],\n",
        "              \"bootstrap\": [True, False],\n",
        "              \"criterion\": [\"gini\", \"entropy\"]}\n",
        "\n",
        "# run grid search\n",
        "grid_search = GridSearchCV(RF_grid, param_grid=param_grid, cv=5)\n",
        "start = time()\n",
        "grid_search.fit(X, y)\n",
        "\n",
        "print(\"GridSearchCV took %.2f seconds for %d candidate parameter settings.\"\n",
        "      % (time() - start, len(grid_search.cv_results_['params'])))\n",
        "report(grid_search.cv_results_)"
      ],
      "execution_count": 66,
      "outputs": [
        {
          "output_type": "stream",
          "text": [
            "GridSearchCV took 50.23 seconds for 72 candidate parameter settings.\n",
            "Model with rank: 1\n",
            "Mean validation score: 0.952 (std: 0.011)\n",
            "Parameters: {'max_features': 10, 'min_samples_split': 2, 'bootstrap': True, 'criterion': 'entropy', 'max_depth': None}\n",
            "\n",
            "Model with rank: 2\n",
            "Mean validation score: 0.951 (std: 0.008)\n",
            "Parameters: {'max_features': 10, 'min_samples_split': 2, 'bootstrap': True, 'criterion': 'gini', 'max_depth': None}\n",
            "\n",
            "Model with rank: 3\n",
            "Mean validation score: 0.950 (std: 0.010)\n",
            "Parameters: {'max_features': 10, 'min_samples_split': 3, 'bootstrap': True, 'criterion': 'entropy', 'max_depth': None}\n",
            "\n",
            "Model with rank: 3\n",
            "Mean validation score: 0.950 (std: 0.007)\n",
            "Parameters: {'max_features': 10, 'min_samples_split': 10, 'bootstrap': True, 'criterion': 'entropy', 'max_depth': None}\n",
            "\n"
          ],
          "name": "stdout"
        }
      ]
    },
    {
      "metadata": {
        "id": "25B7Z1tUFMVa",
        "colab_type": "text"
      },
      "cell_type": "markdown",
      "source": [
        "# <font color=brown>You can also use: Model selection with Cross validation</font> using scikit-learn libraries.\n",
        "https://machinelearningmastery.com/compare-machine-learning-algorithms-python-scikit-learn/\n",
        "\n",
        "https://scikit-learn.org/stable/modules/cross_validation.html#k-fold\n",
        "\n"
      ]
    },
    {
      "metadata": {
        "id": "BNdcgWrdFMVb",
        "colab_type": "code",
        "colab": {}
      },
      "cell_type": "code",
      "source": [
        "from sklearn import model_selection\n",
        "\n",
        "# prepare configuration for cross validation test harness\n",
        "seed = 7\n",
        "# prepare models\n",
        "models = []\n",
        "models.append(('LR', LogisticRegression()))\n",
        "models.append(('LDA', LinearDiscriminantAnalysis()))\n",
        "models.append(('QDA', QuadraticDiscriminantAnalysis()))\n"
      ],
      "execution_count": 0,
      "outputs": []
    },
    {
      "metadata": {
        "id": "Uo3Xtt6gFMVf",
        "colab_type": "code",
        "outputId": "b853fa3d-ff59-497f-fb4f-deb823483cac",
        "colab": {
          "base_uri": "https://localhost:8080/",
          "height": 72
        }
      },
      "cell_type": "code",
      "source": [
        "# evaluate each model in turn\n",
        "results = []\n",
        "names = []\n",
        "scoring = 'accuracy'\n",
        "for name, model in models:\n",
        "    kfold = model_selection.KFold(n_splits=10, random_state=seed)\n",
        "    cv_results = model_selection.cross_val_score(model, X, y, cv=kfold, scoring=scoring)\n",
        "    results.append(cv_results)\n",
        "    names.append(name)\n",
        "    msg = \"%s: %f (%f)\" % (name, cv_results.mean(), cv_results.std())\n",
        "    print(msg)\n"
      ],
      "execution_count": 68,
      "outputs": [
        {
          "output_type": "stream",
          "text": [
            "LR: 0.861574 (0.024194)\n",
            "LDA: 0.856708 (0.020486)\n",
            "QDA: 0.864962 (0.013882)\n"
          ],
          "name": "stdout"
        }
      ]
    },
    {
      "metadata": {
        "id": "xros-2E-FMVm",
        "colab_type": "code",
        "outputId": "40a52932-01cd-499c-fdbc-d9699ff27b6f",
        "colab": {
          "base_uri": "https://localhost:8080/",
          "height": 294
        }
      },
      "cell_type": "code",
      "source": [
        "# boxplot algorithm comparison\n",
        "fig = plt.figure()\n",
        "fig.suptitle('Algorithm Comparison')\n",
        "ax = fig.add_subplot(111)\n",
        "plt.boxplot(results)\n",
        "ax.set_xticklabels(names)\n",
        "plt.show()"
      ],
      "execution_count": 69,
      "outputs": [
        {
          "output_type": "display_data",
          "data": {
            "image/png": "[encoded data removed]",
            "text/plain": [
              "<matplotlib.figure.Figure at 0x7f5e0263f8d0>"
            ]
          },
          "metadata": {
            "tags": []
          }
        }
      ]
    }
  ]
}